{
 "cells": [
  {
   "cell_type": "markdown",
   "id": "d41c9f82-4e95-4081-ad49-1929ffa8ac31",
   "metadata": {},
   "source": [
    "# Kepler Exobolygó ML modell "
   ]
  },
  {
   "cell_type": "code",
   "execution_count": null,
   "id": "0482cd62-30e3-4a15-9b44-5407766708d8",
   "metadata": {},
   "outputs": [],
   "source": [
    "# import image module \n",
    "from IPython.display import Image \n",
    "  \n",
    "# get the image \n",
    "Image(url=\"pictures/PIA18904~large.jpg\", width=300, height=300) "
   ]
  },
  {
   "cell_type": "markdown",
   "id": "465d21f2-8690-47c5-ad48-4c811b46375f",
   "metadata": {},
   "source": [
    "A Kepler űrteleszkópot 2009-ben indította a NASA, az első olyan misszióként, amely földszerű exobolygók felfedezésére irányult a lakható zónákban. Több mint 150 000 csillag fényességét figyelte meg, és több mint 2600 megerősített bolygót azonosított. 2013-ban a küldetést kiterjesztették K2 néven, új égboltterületek megfigyelésére. A Kepler forradalmasította a bolygókutatást, megmutatva, hogy több bolygó van a galaxisunkban, mint csillag. A misszió 2018-ban véget ért, de hatalmas örökséget hagyott maga után a kutatás számára."
   ]
  },
  {
   "cell_type": "markdown",
   "id": "31f5654b-5d70-4f1e-84b9-ee7a74c1a52d",
   "metadata": {},
   "source": [
    "- Indulás Dátuma: 2009. március 7.\n",
    "- Küldetés Időtartama: Kezdetben 3,5 év, majd meghosszabbítva 2018. október 30-ig\n",
    "- Elsődleges Küldetés: 4 év\n",
    "- Másodlagos Küldetés: 5,5 év\n",
    "- Megfigyelt Csillagok Száma: Több mint 150 000\n",
    "- Felfedezett Bolygók Száma: Több mint 2 600 megerősített exobolygó\n",
    "- Kepler Nézőpontja: 105 négyzetfok\n",
    "- Fotométer Érzékenység: Képes észlelni a fényesség változását akár 20 ppm (egymillióból 20)\n",
    "- Gyűjtött Adatok Mennyisége: Több mint 50 terabájt\n",
    "- Felfedezett Bolygórendszerek Száma: Több mint 1 000"
   ]
  },
  {
   "cell_type": "markdown",
   "id": "1e6e19bc-df63-4a3f-897a-a5a823841349",
   "metadata": {},
   "source": [
    "ADATKÉSZLET: Kepler Objects of Interest (KOI) táblázat a Kepler-misszió által azonosított bolygójelöltekről nyújt adatokat. Tartalmazza a jelöltek státuszát, pályaparamétereket, csillagtulajdonságokat és fotometriai adatokat. Ezek az információk segítenek az exobolygók azonosításában és megerősítésében. A részletesebb adatoszlopok a jelöltek besorolását és tulajdonságaik leírását szolgálják.\n",
    "\n",
    "https://exoplanetarchive.ipac.caltech.edu/cgi-bin/TblView/nph-tblView?app=ExoTbls&config=cumulative"
   ]
  },
  {
   "cell_type": "markdown",
   "id": "8b3b944b-54f0-4bb5-9ed7-fbc87f434e95",
   "metadata": {},
   "source": [
    "## 1. Könyvtárak és adatkészlet betöltése"
   ]
  },
  {
   "cell_type": "code",
   "execution_count": null,
   "id": "40556084-143e-4916-afc2-997b7854972a",
   "metadata": {
    "editable": true,
    "slideshow": {
     "slide_type": ""
    },
    "tags": []
   },
   "outputs": [],
   "source": [
    "import os\n",
    "import sys\n",
    "import json\n",
    "import seaborn as sns\n",
    "import pandas as pd\n",
    "import numpy as np\n",
    "import matplotlib\n",
    "import matplotlib.pyplot as plt\n",
    "\n",
    "print(f\"Python version: {sys.version}\")\n",
    "print(f\"Pandas version: {pd.__version__}\")\n",
    "print(f\"Numpy version: {np.__version__}\")\n",
    "print(f\"Matplotlib version: {matplotlib.__version__}\")"
   ]
  },
  {
   "cell_type": "code",
   "execution_count": null,
   "id": "62d50af9-280a-4999-bf8e-4f26e9368d7c",
   "metadata": {},
   "outputs": [],
   "source": [
    "exo_column_names = pd.read_csv(r\"data/cumulative_2024.09.03_11.45.57.csv\", on_bad_lines=\"skip\")\n",
    "exo_data_clean = pd.read_csv(r\"data/cumulative_2024.09.03_11.45.57.csv\", skiprows=143, low_memory=False, header=0)"
   ]
  },
  {
   "cell_type": "code",
   "execution_count": null,
   "id": "d1cd1763-99d3-4525-baaf-015b5259b847",
   "metadata": {},
   "outputs": [],
   "source": [
    "exo_column_names.head()"
   ]
  },
  {
   "cell_type": "code",
   "execution_count": null,
   "id": "33b0dd81-fb81-421b-a5dc-20102f6c6b45",
   "metadata": {},
   "outputs": [],
   "source": [
    "exo_data_clean.head()"
   ]
  },
  {
   "cell_type": "code",
   "execution_count": null,
   "id": "6134bc44-de8a-4737-a777-80b63d836957",
   "metadata": {},
   "outputs": [],
   "source": [
    "exo_data_clean.to_csv(r\"data/cumulative_2024.09.03_clean.csv\")"
   ]
  },
  {
   "cell_type": "code",
   "execution_count": null,
   "id": "5ab2f491-2721-4f47-b0d5-3146c361a7e4",
   "metadata": {},
   "outputs": [],
   "source": [
    "print('Setup is completed')"
   ]
  },
  {
   "cell_type": "markdown",
   "id": "ae71ad6d-ea16-4553-81b9-d3372b4d977c",
   "metadata": {},
   "source": [
    "## 2. Adatkészlet előfeldolgozása"
   ]
  },
  {
   "cell_type": "code",
   "execution_count": null,
   "id": "bc706b2b-adf2-4ba2-a2a8-c2505496b715",
   "metadata": {},
   "outputs": [],
   "source": [
    "exo_column_names.info()"
   ]
  },
  {
   "cell_type": "code",
   "execution_count": null,
   "id": "ae3945f5-31ad-4c91-aa5e-a142a1f222a0",
   "metadata": {},
   "outputs": [],
   "source": [
    "exo_column_names = exo_column_names.iloc[:-1,:]\n",
    "exo_column_names = exo_column_names.iloc[2:,:]"
   ]
  },
  {
   "cell_type": "code",
   "execution_count": null,
   "id": "bda2deab-f2e2-44a9-b8e5-102ff1d93826",
   "metadata": {},
   "outputs": [],
   "source": [
    "exo_column_names.head()"
   ]
  },
  {
   "cell_type": "code",
   "execution_count": null,
   "id": "2625916d-a8d1-46c5-84ce-9aa44060d102",
   "metadata": {},
   "outputs": [],
   "source": [
    "column_names = dict()\n",
    "for index, row in exo_column_names.iterrows():\n",
    "    temp = row.values[0][9:].split(\": \")\n",
    "    column_names[temp[0].lstrip()] = temp[1].lstrip().replace(' ', '_').replace('[', '').replace(']', '').replace('.', '')\n",
    "    print(f\"{temp[0].lstrip()}:{(25 - len(temp[0].lstrip())) * ' '}{temp[1].lstrip().replace(' ', '_').replace('[', '').replace(']', '').replace('.', '')}\")"
   ]
  },
  {
   "cell_type": "code",
   "execution_count": null,
   "id": "a0b34dd9-7d91-4ab8-861c-2f93bd8d4e21",
   "metadata": {},
   "outputs": [],
   "source": [
    "# Convert and write JSON object to file\n",
    "with open(\"data/columns_names.json\", \"w\") as outfile: \n",
    "    json.dump(column_names, outfile)"
   ]
  },
  {
   "cell_type": "code",
   "execution_count": null,
   "id": "8bacd34c-ba7f-4a7e-97a7-bae37632cf39",
   "metadata": {},
   "outputs": [],
   "source": [
    "with open('data/data_types.json', 'r') as file:\n",
    "    data_types = json.load(file)"
   ]
  },
  {
   "cell_type": "code",
   "execution_count": null,
   "id": "60ff0685-26ef-49da-b2d8-fe76beafa8a2",
   "metadata": {},
   "outputs": [],
   "source": [
    "exo_data = pd.read_csv(r\"data/cumulative_2024.09.03_clean.csv\", low_memory=False, skip_blank_lines=True, header=1, dtype=data_types)"
   ]
  },
  {
   "cell_type": "code",
   "execution_count": null,
   "id": "3fa3dbc9-52b5-4412-99b8-74d95b0e3e2c",
   "metadata": {},
   "outputs": [],
   "source": [
    "exo_data.shape"
   ]
  },
  {
   "cell_type": "code",
   "execution_count": null,
   "id": "19775fe0-8be9-4957-992a-ad9cd3f5a732",
   "metadata": {},
   "outputs": [],
   "source": [
    "exo_data.head()"
   ]
  },
  {
   "cell_type": "code",
   "execution_count": null,
   "id": "f933d295-01ab-4fc9-8e13-9086e4dafe45",
   "metadata": {},
   "outputs": [],
   "source": [
    "exo_data.describe()"
   ]
  },
  {
   "cell_type": "code",
   "execution_count": null,
   "id": "b6948952-4bb4-4ddf-8b8d-a2a67dd794db",
   "metadata": {},
   "outputs": [],
   "source": [
    "with open('data/columns_names.json', 'r') as file:\n",
    "    column_names = json.load(file)"
   ]
  },
  {
   "cell_type": "code",
   "execution_count": null,
   "id": "17263f47-3f45-4481-a80d-34397bb07ecd",
   "metadata": {},
   "outputs": [],
   "source": [
    "exo_data = exo_data.rename(columns = column_names, inplace=False)"
   ]
  },
  {
   "cell_type": "code",
   "execution_count": null,
   "id": "a0a95e26-23a0-4e62-9ad5-aed973d6f7ea",
   "metadata": {},
   "outputs": [],
   "source": [
    "for column in exo_data.columns:\n",
    "    if not exo_data[column].any():\n",
    "        exo_data = exo_data.drop(column, axis=1)\n",
    "        print(f\"{column} is deleted because its empty\")"
   ]
  },
  {
   "cell_type": "code",
   "execution_count": null,
   "id": "f4077815-e63a-4715-96cc-04db8591e455",
   "metadata": {},
   "outputs": [],
   "source": [
    "clear_exo = exo_data.dropna()"
   ]
  },
  {
   "cell_type": "code",
   "execution_count": null,
   "id": "af713ddb-f4e5-4d18-b359-2fdf9a93c315",
   "metadata": {},
   "outputs": [],
   "source": [
    "print(f\"Number of found planets: {clear_exo['Number_of_Planets'].sum()}\")"
   ]
  },
  {
   "cell_type": "code",
   "execution_count": null,
   "id": "e18cfa83-163f-4a26-ba71-0161d3d41c0c",
   "metadata": {},
   "outputs": [],
   "source": [
    "sns.set(rc = {'figure.figsize':(25,9)})\n",
    "d1 = clear_exo[(clear_exo[\"Number_of_Planets\"] >= 4)]\n",
    "d2 = clear_exo.head(20)\n",
    "op = sns.scatterplot(data=d1,\n",
    "                     x=\"Orbital_Period_days\",\n",
    "                     y=\"KepID\",\n",
    "                     hue=\"Equilibrium_Temperature_K\",\n",
    "                     hue_norm=(0, 1800),\n",
    "                     size=\"Planetary_Radius_Earth_radii\",\n",
    "                     legend=\"brief\",\n",
    "                     sizes=(20, 200))\n",
    "op.set_yscale(\"log\")\n",
    "\n",
    "plt.title(\"Kepler Exoplanets sizes and temperatures\")\n",
    "plt.xlabel(\"Orbital Period days\")\n",
    "plt.ylabel(\"Number of planets in one system\")"
   ]
  },
  {
   "cell_type": "code",
   "execution_count": null,
   "id": "3b52cccb-7a96-4fcd-996e-a8b2214d7d35",
   "metadata": {},
   "outputs": [],
   "source": [
    "d3 = clear_exo\n",
    "op = sns.scatterplot(data=d3,\n",
    "                     x=\"Orbital_Period_days\",\n",
    "                     y=\"Planetary_Radius_Earth_radii\",\n",
    "                     hue=\"Equilibrium_Temperature_K\",\n",
    "                     hue_norm=(0, 1800),\n",
    "                     size=\"Planetary_Radius_Earth_radii\",\n",
    "                     legend=\"brief\",\n",
    "                     sizes=(20, 200))\n",
    "\n",
    "op.set_xscale(\"log\")\n",
    "op.set_yscale(\"log\")\n",
    "\n",
    "plt.title(\"Exoplanet Radius - Orbital Period\")\n",
    "plt.xlabel(\"Orbital Period days\")\n",
    "plt.ylabel(\"Planetary Radius Earth [rad]\")"
   ]
  },
  {
   "cell_type": "code",
   "execution_count": null,
   "id": "eb7b531a-7187-4e13-8cad-649ef7c89b73",
   "metadata": {},
   "outputs": [],
   "source": [
    "import plotly.express as px\n",
    "\n",
    "fig = px.scatter_3d(clear_exo, x=\"Orbital_Period_days\", y=\"Transit_Epoch_BKJD\", z=\"Transit_Duration_hrs\",\n",
    "                    color=\"Transit_Depth_ppm\", width=900, height=800)\n",
    "fig.show()"
   ]
  },
  {
   "cell_type": "code",
   "execution_count": null,
   "id": "5e16d0f5-2314-44c2-9bd5-a2089a39e3da",
   "metadata": {},
   "outputs": [],
   "source": [
    "# Hertzsprung-Russell Diagram (HR Diagram) for Stars\n",
    "\n",
    "# The HR diagram is a cornerstone in astrophysics, classifying stars based on temperature and luminosity.\n",
    "# It allows you to see star classification (main sequence, giants, white dwarfs, etc.) and their evolutionary stages.\n",
    "# You can identify the type of stars hosting exoplanets, understanding their life stages and\n",
    "# how they might affect planetary formation.\n",
    "\n",
    "import seaborn as sns\n",
    "import matplotlib.pyplot as plt\n",
    "\n",
    "plt.figure(figsize=(12,10))\n",
    "hr = sns.scatterplot(data=clear_exo,\n",
    "                     x='Stellar_Effective_Temperature_K',\n",
    "                     y='Insolation_Flux_Earth_flux',\n",
    "                     hue='Stellar_Effective_Temperature_K',\n",
    "                     size='Stellar_Radius_Solar_radii',\n",
    "                     sizes=(0, 200),\n",
    "                     palette='plasma',\n",
    "                     legend=\"brief\",\n",
    "                     )\n",
    "hr.set_yscale(\"log\")\n",
    "plt.gca().invert_xaxis()  # Invert x-axis for HR diagram\n",
    "plt.xlabel('Effective Temperature (K)')\n",
    "plt.ylabel('Stellar Luminosity (proxy: Incident Flux)')\n",
    "plt.title('Hertzsprung-Russell Diagram of Stars')\n",
    "plt.show()"
   ]
  },
  {
   "cell_type": "code",
   "execution_count": null,
   "id": "d2fe275e-dda0-4e46-aae3-87e61a382164",
   "metadata": {},
   "outputs": [],
   "source": [
    "# Mass-Radius Relationship of Exoplanets\n",
    "\n",
    "# This chart helps classify planets as rocky, gaseous, or \n",
    "# something in between (e.g., super-Earths, mini-Neptunes, gas giants).\n",
    "# It's essential in understanding planetary composition.\n",
    "# Comparing different planets on this chart helps reveal trends in planet formation and structure.\n",
    "\n",
    "import plotly.express as px\n",
    "\n",
    "fig = px.scatter(clear_exo,\n",
    "                 x='Planetary_Radius_Earth_radii',\n",
    "                 y='Fitted_Stellar_Density_g/cm**3',\n",
    "                 color='Stellar_Effective_Temperature_K',\n",
    "                 size='Planetary_Radius_Earth_radii',\n",
    "                 log_x=True,\n",
    "                 log_y=True, \n",
    "                 labels={'Planetary_Radius_Earth_radii': 'Planet Radius (Earth Rad)', \n",
    "                         'Fitted_Stellar_Density_g/cm**3': 'Planet Mass (Earth Masses)'}, \n",
    "                 title='Mass-Radius Relationship of Exoplanets',\n",
    "                )\n",
    "\n",
    "fig.show()"
   ]
  },
  {
   "cell_type": "code",
   "execution_count": null,
   "id": "87d83c3d-4ebb-46a3-9939-1e474670d06e",
   "metadata": {},
   "outputs": [],
   "source": [
    "# Orbital Period vs. Stellar Radius\n",
    "\n",
    "# This chart can reveal how stellar size affects the orbital properties of planets.\n",
    "# Larger stars may host planets with longer orbital periods due to greater habitable zones.\n",
    "# Helps understand the architecture of planetary systems in relation to their host stars.\n",
    "\n",
    "plt.figure(figsize=(14,8))\n",
    "sns.scatterplot(data=clear_exo,\n",
    "                x='Orbital_Period_days',\n",
    "                y='Stellar_Radius_Solar_radii',\n",
    "                size='Stellar_Radius_Solar_radii',\n",
    "                hue='Stellar_Effective_Temperature_K',\n",
    "                legend='brief',)\n",
    "\n",
    "plt.xscale('log')\n",
    "plt.yscale('log')\n",
    "plt.xlabel('Orbital Period (days)')\n",
    "plt.ylabel('Stellar Radius (Solar Radii)')\n",
    "plt.title('Orbital Period vs. Stellar Radius')\n",
    "plt.show()"
   ]
  },
  {
   "cell_type": "code",
   "execution_count": null,
   "id": "3ef37caf-7bb9-48b5-ab88-e39200ce9545",
   "metadata": {},
   "outputs": [],
   "source": [
    "# Planet Radius vs. Orbital Period\n",
    "\n",
    "# This chart helps to investigate the relationship between a planet's size and how far it is from its star.\n",
    "# It can differentiate gas giants and small rocky planets, possibly indicating trends in planet formation.\n",
    "# Larger planets tend to form farther from their stars, while smaller planets are often found closer in.\n",
    "\n",
    "fig = px.scatter(clear_exo,\n",
    "                 x='Orbital_Period_days',\n",
    "                 y='Planetary_Radius_Earth_radii', \n",
    "                 color='Equilibrium_Temperature_K',\n",
    "                 size='Planetary_Radius_Earth_radii',\n",
    "                 log_x=True,\n",
    "                 log_y=True, \n",
    "                 labels={'Orbital_Period_days': 'Orbital Period (days)', \n",
    "                         'Planetary_Radius_Earth_radii': 'Planetary Radius (Earth Radii)'}, \n",
    "                 title='Planet Radius vs. Orbital Period')\n",
    "\n",
    "fig.show()"
   ]
  },
  {
   "cell_type": "code",
   "execution_count": null,
   "id": "8d0016d7-145b-4e2d-88fc-359f406701ad",
   "metadata": {},
   "outputs": [],
   "source": [
    "# Incident Flux vs. Orbital Period\n",
    "\n",
    "# This chart shows how the stellar energy a planet receives (insolation)\n",
    "# decreases with increasing distance from the star (longer periods).\n",
    "# It's useful for studying potential habitable zones and understanding planetary climates.\n",
    "# Planets with short orbital periods are likely to be very hot, while those with long periods receive less energy and could be cooler.\n",
    "\n",
    "plt.figure(figsize=(14,8))\n",
    "sns.scatterplot(data=clear_exo,\n",
    "                x='Orbital_Period_days',\n",
    "                y='Insolation_Flux_Earth_flux',\n",
    "                size='Stellar_Radius_Solar_radii',\n",
    "                hue='Stellar_Effective_Temperature_K',\n",
    "                legend='brief',)\n",
    "\n",
    "plt.xscale('log')\n",
    "plt.yscale('log')\n",
    "plt.xlabel('Orbital Period (days)')\n",
    "plt.ylabel('Incident Flux (Earth Units)')\n",
    "plt.title('Incident Flux vs. Orbital Period')\n",
    "plt.show()"
   ]
  },
  {
   "cell_type": "code",
   "execution_count": null,
   "id": "6312e2ab-bae6-466e-b977-fdbb4b9b18aa",
   "metadata": {},
   "outputs": [],
   "source": [
    "# Planetary Density vs. Planet Radius\n",
    "\n",
    "# This chart helps to distinguish between different types of planets, such as gas giants, rocky planets, and water worlds.\n",
    "# Rocky planets tend to be smaller but denser, while gas giants are larger but less dense.\n",
    "# Planetary density is a key indicator of a planet's composition. You can classify planets based on density ranges.\n",
    "\n",
    "fig = px.scatter(clear_exo,\n",
    "                 x='Planetary_Radius_Earth_radii',\n",
    "                 y='Fitted_Stellar_Density_g/cm**3',\n",
    "                 color='Equilibrium_Temperature_K',\n",
    "                 size='Fitted_Stellar_Density_g/cm**3',\n",
    "                 log_x=True,\n",
    "                 log_y=True, \n",
    "                 labels={'Planetary_Radius_Earth_radii': 'Planetary Radius (Earth Radii)', \n",
    "                         'Fitted_Stellar_Density_g/cm**3': 'Planetary Density (g/cm³)'}, \n",
    "                 title='Planetary Density vs. Planet Radius')\n",
    "\n",
    "fig.show()"
   ]
  },
  {
   "cell_type": "code",
   "execution_count": null,
   "id": "d66440dd-9955-4483-9313-653bf5d51c60",
   "metadata": {},
   "outputs": [],
   "source": [
    "# Transit Depth vs. Stellar Radius\n",
    "\n",
    "# Transit depth is directly related to the planet’s size relative to the star.\n",
    "# For larger stars, transit depth tends to be shallower for a planet of a given size.\n",
    "# This chart helps to understand how the size of a planet’s transit signal is influenced by its host star’s size.\n",
    "\n",
    "plt.figure(figsize=(14,8))\n",
    "sns.scatterplot(data=clear_exo,\n",
    "                x='Stellar_Radius_Solar_radii',\n",
    "                y='Transit_Depth_ppm',\n",
    "                size='Stellar_Radius_Solar_radii',\n",
    "                hue='Stellar_Effective_Temperature_K',\n",
    "                legend='brief'\n",
    "               )\n",
    "\n",
    "plt.xscale('log')\n",
    "plt.yscale('log')\n",
    "plt.xlabel('Stellar Radius (Solar Radii)')\n",
    "plt.ylabel('Transit Depth (ppm)')\n",
    "plt.title('Transit Depth vs. Stellar Radius')\n",
    "plt.show()"
   ]
  },
  {
   "cell_type": "code",
   "execution_count": null,
   "id": "f0d98e29-e35d-4dfc-97fe-06210b323070",
   "metadata": {},
   "outputs": [],
   "source": [
    "exo_data.head(10)"
   ]
  },
  {
   "cell_type": "code",
   "execution_count": null,
   "id": "ee3fcf41-f7bf-433e-b403-fa9707ad2a76",
   "metadata": {},
   "outputs": [],
   "source": [
    "for column in exo_data.columns:\n",
    "    print(column)"
   ]
  },
  {
   "cell_type": "code",
   "execution_count": null,
   "id": "476971cd-323d-4390-bcfb-f412dd23b7e5",
   "metadata": {},
   "outputs": [],
   "source": [
    "drop_names = [\"Vetting_Status\",\n",
    "              \"rowid\",\n",
    "              \"Date_of_Last_Parameter_Update\",\n",
    "              \"Disposition_Using_Kepler_Data\",\n",
    "              \"Disposition_Provenance\", \n",
    "              \"Link_to_DV_Report\", \n",
    "              \"Link_to_DV_Summary\",  \n",
    "              \"KOI_Name\",\n",
    "              \"Kepler_Name\",\n",
    "              \"Disposition_Score\"]\n",
    "\n",
    "exo_data = exo_data.drop(drop_names, axis=1)"
   ]
  },
  {
   "cell_type": "code",
   "execution_count": null,
   "id": "21b14741-6b77-4cc7-9ab8-bd079c917db8",
   "metadata": {},
   "outputs": [],
   "source": [
    "exo_data.head()"
   ]
  },
  {
   "cell_type": "code",
   "execution_count": null,
   "id": "b567e5c2-9e41-43c6-a3eb-4f9d31a7a51d",
   "metadata": {},
   "outputs": [],
   "source": [
    "exo_data.to_csv(r\"data/cumulative_2024.09.03_new.csv\")"
   ]
  },
  {
   "cell_type": "code",
   "execution_count": null,
   "id": "d2be3ce7-d95b-4c0a-80a9-7f79dcf99f44",
   "metadata": {},
   "outputs": [],
   "source": [
    "print(f\"The dataframe have {exo_data.shape[0]} row and {exo_data.shape[1]} columns\")"
   ]
  },
  {
   "cell_type": "code",
   "execution_count": null,
   "id": "ca1ce0fe-d750-4a68-ab24-75a63714c659",
   "metadata": {},
   "outputs": [],
   "source": [
    "exo_data.isnull().sum()"
   ]
  },
  {
   "cell_type": "code",
   "execution_count": null,
   "id": "44e1174e-b9c4-4609-9e1a-65c6cb0768f4",
   "metadata": {},
   "outputs": [],
   "source": [
    "exo_data.info(113)"
   ]
  },
  {
   "cell_type": "markdown",
   "id": "c00fa19f-673b-4969-951b-d8517e614eaf",
   "metadata": {},
   "source": [
    "## 3. Adatok elemzése"
   ]
  },
  {
   "cell_type": "code",
   "execution_count": null,
   "id": "21314622-adf2-4f96-809c-7fdb11d94cf3",
   "metadata": {},
   "outputs": [],
   "source": [
    "print(exo_data.RA_decimal_degrees.isnull().sum())\n",
    "print(exo_data.Dec_decimal_degrees.isnull().sum())"
   ]
  },
  {
   "cell_type": "code",
   "execution_count": null,
   "id": "372d1f8d-fad0-415b-bca2-4b93d5c2e4dc",
   "metadata": {},
   "outputs": [],
   "source": [
    "exo_data.Exoplanet_Archive_Disposition.value_counts()"
   ]
  },
  {
   "cell_type": "code",
   "execution_count": null,
   "id": "9d04dc16-b1f4-4a73-87f5-2660ee6ba974",
   "metadata": {},
   "outputs": [],
   "source": [
    "plt.figure(figsize=(8, 4))\n",
    "exo_data.Exoplanet_Archive_Disposition.value_counts().plot(kind='bar', color=[\"red\", \"green\", \"blue\"])\n",
    "plt.show()"
   ]
  },
  {
   "cell_type": "code",
   "execution_count": null,
   "id": "425be4e1-421e-445f-881d-49316f0b38d5",
   "metadata": {},
   "outputs": [],
   "source": [
    "import matplotlib.pyplot as plt\n",
    "%matplotlib inline\n",
    "\n",
    "# Extract data\n",
    "Candidates = exo_data[exo_data.Exoplanet_Archive_Disposition == \"CANDIDATE\"]\n",
    "Confirmed = exo_data[exo_data.Exoplanet_Archive_Disposition == \"CONFIRMED\"]\n",
    "\n",
    "# RA and DEC for Candidates and Confirmed\n",
    "ra = exo_data.RA_decimal_degrees\n",
    "dec = exo_data.Dec_decimal_degrees\n",
    "ra_c = Confirmed.RA_decimal_degrees\n",
    "dec_c = Confirmed.Dec_decimal_degrees\n",
    "\n",
    "# Plot\n",
    "fig, ax = plt.subplots(figsize=(10, 10))\n",
    "\n",
    "ax.scatter(ra, dec, s=3, label=\"Candidates\", alpha=0.7)\n",
    "ax.scatter(ra_c, dec_c, s=3, label=\"Confirmed\", alpha=0.7)\n",
    "\n",
    "ax.set_xlabel(\"Right Ascension (RA)\")\n",
    "ax.set_ylabel(\"Declination (DEC)\")\n",
    "ax.set_title(\"Scatter Plot of Exoplanet Candidates and Confirmed Exoplanets\")\n",
    "\n",
    "ax.legend()\n",
    "ax.set_aspect('equal', adjustable='box')\n",
    "plt.tight_layout()"
   ]
  },
  {
   "cell_type": "code",
   "execution_count": null,
   "id": "8c43fe76-7cce-4f19-a664-1e70da5ea604",
   "metadata": {},
   "outputs": [],
   "source": [
    "# Separiting the categorical features\n",
    "\n",
    "categorical = exo_data.select_dtypes(include =[object])\n",
    "print(\"Categorical Features in DataSet:\",categorical.shape[1])\n",
    "print(categorical.columns)"
   ]
  },
  {
   "cell_type": "code",
   "execution_count": null,
   "id": "02f88bba-736a-4e72-b4aa-c6d6823fb405",
   "metadata": {},
   "outputs": [],
   "source": [
    "# from sklearn.preprocessing import LabelEncoder\n",
    "\n",
    "# # Initialize the LabelEncoder\n",
    "# enc = LabelEncoder()\n",
    "\n",
    "# # Apply Label Encoding to koi_disposition\n",
    "# exo_data[\"Exoplanet_Archive_Disposition_Encoded\"] = enc.fit_transform(exo_data[\"Exoplanet_Archive_Disposition\"])\n",
    "\n",
    "# # Show the encoded column\n",
    "# print(exo_data[[\"Exoplanet_Archive_Disposition\", \"Exoplanet_Archive_Disposition_Encoded\"]].head())"
   ]
  },
  {
   "cell_type": "code",
   "execution_count": null,
   "id": "f346fff2-b483-4239-8680-6d0f46b97081",
   "metadata": {},
   "outputs": [],
   "source": [
    "from sklearn.preprocessing import LabelEncoder\n",
    "\n",
    "le = LabelEncoder()\n",
    "\n",
    "for column in ['Exoplanet_Archive_Disposition', 'Comment', 'Planetary_Fit_Type', \n",
    "               'Limb_Darkening_Model', 'Parameters_Provenance', 'TCE_Delivery', \n",
    "               'Quarters', 'Transit_Model', 'Stellar_Parameter_Provenance']:\n",
    "    exo_data[column + \"_Encoded\"] = le.fit_transform(exo_data[column])"
   ]
  },
  {
   "cell_type": "markdown",
   "id": "d6f0668e-5e48-47e9-af9f-04ea284f901f",
   "metadata": {},
   "source": [
    "## 4. Adatok tisztítása"
   ]
  },
  {
   "cell_type": "code",
   "execution_count": null,
   "id": "01a23c8a-720e-4adf-833f-8930ad0a78ca",
   "metadata": {},
   "outputs": [],
   "source": [
    "### Handle Missing Values: Identify columns with missing values and decide how to handle them (e.g., remove rows, fill with mean/median, or use more advanced imputation methods).\n",
    "### Outlier Detection: Look for outliers that could negatively impact your model and decide whether to remove or transform them.\n",
    "### Normalize/Scale Data: Depending on the model, scaling features (e.g., using StandardScaler or MinMaxScaler in sklearn) might be necessary."
   ]
  },
  {
   "cell_type": "code",
   "execution_count": null,
   "id": "c718a7c6-d6e9-4831-b296-bedd18545f15",
   "metadata": {},
   "outputs": [],
   "source": [
    "nulls = exo_data.isnull().sum()\n",
    "count = 1\n",
    "for key, value in nulls.items():\n",
    "    print(f\"{count}  {key}{(70 - len(key)) * ' '}{value}\")\n",
    "    count += 1"
   ]
  },
  {
   "cell_type": "code",
   "execution_count": null,
   "id": "3d9ab5d3-bc33-48d4-8de3-39910103fb59",
   "metadata": {},
   "outputs": [],
   "source": [
    "exo_data.drop(categorical.columns, inplace=True, axis=1)"
   ]
  },
  {
   "cell_type": "code",
   "execution_count": null,
   "id": "d2a99915-e9ee-47e6-a7a6-5c14d2012c0d",
   "metadata": {},
   "outputs": [],
   "source": [
    "exo_data.dropna(subset=[\"Orbital_Period_Upper_Unc_days\"], inplace=True)"
   ]
  },
  {
   "cell_type": "code",
   "execution_count": null,
   "id": "491d9b9b-65f2-458c-ae4b-9287fc335564",
   "metadata": {},
   "outputs": [],
   "source": [
    "nulls = exo_data.isnull().sum()\n",
    "count = 1\n",
    "for key, value in nulls.items():\n",
    "    print(f\"{count}  {key}{(70 - len(key)) * ' '}{value}\")\n",
    "    count += 1"
   ]
  },
  {
   "cell_type": "code",
   "execution_count": null,
   "id": "551d45ea-2c24-4b89-8c56-31b1e8cecb45",
   "metadata": {},
   "outputs": [],
   "source": [
    "exo_data.shape"
   ]
  },
  {
   "cell_type": "code",
   "execution_count": null,
   "id": "d0df8cee-d6ae-4120-8c79-d78acfa10274",
   "metadata": {},
   "outputs": [],
   "source": [
    "inf_values = exo_data[np.isinf(exo_data).any(axis=1)]\n",
    "print(inf_values)"
   ]
  },
  {
   "cell_type": "code",
   "execution_count": null,
   "id": "150e8711-4981-40d3-9d58-7fed20ef6d06",
   "metadata": {},
   "outputs": [],
   "source": [
    "exo_data.replace([np.inf, -np.inf], np.nan, inplace=True)"
   ]
  },
  {
   "cell_type": "code",
   "execution_count": null,
   "id": "857d2701-11de-47a5-9c25-d7447320e727",
   "metadata": {},
   "outputs": [],
   "source": [
    "for i in exo_data.columns:\n",
    "    print(i)"
   ]
  },
  {
   "cell_type": "code",
   "execution_count": null,
   "id": "9543aeac-5817-4521-b18f-ce340594ab75",
   "metadata": {},
   "outputs": [],
   "source": [
    "exo_data.describe()"
   ]
  },
  {
   "cell_type": "markdown",
   "id": "31c7c67f-29e0-4634-bf07-073c630db3ec",
   "metadata": {},
   "source": [
    "## 5. Feature selection"
   ]
  },
  {
   "cell_type": "code",
   "execution_count": null,
   "id": "73a800ba-e620-4ffa-a14c-a9fb392d6b1e",
   "metadata": {},
   "outputs": [],
   "source": [
    "### Feature Selection: Identify the most important features for your model. You can do this through domain knowledge, statistical tests, or feature importance scores.\n",
    "### Categorical Variables: Convert categorical features into numerical format if needed (e.g., using one-hot encoding or label encoding)."
   ]
  },
  {
   "cell_type": "code",
   "execution_count": null,
   "id": "5abb7644-59ac-4ea5-97dc-656e559aef7b",
   "metadata": {},
   "outputs": [],
   "source": [
    "classification_features = [ \"Orbital_Period_days\",\n",
    "                            \"Orbital_Period_days_weight\",\n",
    "                            \"Transit_Epoch_BKJD\",\n",
    "                            \"Transit_Epoch_BKJD_weight\",\n",
    "                            \"Transit_Epoch_BJD\",\n",
    "                            \"Transit_Epoch_BJD_weight\",\n",
    "                            \"Impact_Parameter\",\n",
    "                            \"Impact_Parameter_weight\",\n",
    "                            \"Transit_Duration_hrs\",\n",
    "                            \"Transit_Duration_hrs_weight\",\n",
    "                            \"Transit_Depth_ppm\",\n",
    "                            \"Transit_Depth_ppm_weight\",\n",
    "                            \"Planet-Star_Radius_Ratio\",\n",
    "                            \"Planet-Star_Radius_Ratio_weight\",\n",
    "                            \"Fitted_Stellar_Density_g/cm**3\",\n",
    "                            \"Fitted_Stellar_Density_g/cm**3_weight\",\n",
    "                            \"Planetary_Radius_Earth_radii\",\n",
    "                            \"Planetary_Radius_Earth_radii_weight\",\n",
    "                            \"Orbit_Semi-Major_Axis_au\",\n",
    "                            \"Inclination_deg\",\n",
    "                            \"Equilibrium_Temperature_K\",\n",
    "                            \"Insolation_Flux_Earth_flux\",\n",
    "                            \"Insolation_Flux_Earth_flux_weight\",\n",
    "                            \"Planet-Star_Distance_over_Star_Radius\",\n",
    "                            \"Planet-Star_Distance_over_Star_Radius_weight\",\n",
    "                            \"Stellar_Effective_Temperature_K\",\n",
    "                            \"Stellar_Surface_Gravity_log10(cm/s**2)\",\n",
    "                            \"Stellar_Metallicity_dex\",\n",
    "                            \"Stellar_Radius_Solar_radii\",\n",
    "                            \"Stellar_Mass_Solar_mass\",\n",
    "                            \"Comment_Encoded\",\n",
    "                            \"Planetary_Fit_Type_Encoded\",\n",
    "                            \"Parameters_Provenance_Encoded\",\n",
    "                            \"TCE_Delivery_Encoded\",\n",
    "                            \"Quarters_Encoded\",\n",
    "                            \"Stellar_Parameter_Provenance_Encoded\",\n",
    "                            \"Exoplanet_Archive_Disposition_Encoded\",\n",
    "                          ]"
   ]
  },
  {
   "cell_type": "code",
   "execution_count": null,
   "id": "d46abd02-979a-4b15-90ba-11a2be961580",
   "metadata": {},
   "outputs": [],
   "source": [
    "def create_weight(feature, feature_err1, feature_err2):\n",
    "    # Calculate absolute and relative uncertainties\n",
    "    exo_data[feature + \"_abs_uncertainty\"] = np.abs(exo_data[feature_err1] - exo_data[feature_err2])\n",
    "    \n",
    "    # Prevent division by zero in the relative uncertainty calculation\n",
    "    epsilon = 1e-6  # small value to avoid division by zero\n",
    "    exo_data[feature + \"_rel_uncertainty\"] = exo_data[feature + \"_abs_uncertainty\"] / (exo_data[feature] + epsilon)\n",
    "    \n",
    "    # Filter based on the relative uncertainty threshold\n",
    "    threshold = 0.10\n",
    "    filtered_exo_data = exo_data[exo_data[feature + \"_rel_uncertainty\"] < threshold]\n",
    "    \n",
    "    # Calculate weight and handle infinite values\n",
    "    exo_data[feature + \"_weight\"] = 1 / (exo_data[feature + \"_rel_uncertainty\"] + epsilon)\n",
    "    \n",
    "    # Remove temporary columns for cleanliness\n",
    "    exo_data.drop(columns=[feature + \"_abs_uncertainty\", feature + \"_rel_uncertainty\"], inplace=True)\n",
    "    "
   ]
  },
  {
   "cell_type": "code",
   "execution_count": null,
   "id": "57938335-60db-49ab-a24f-34475ff612ba",
   "metadata": {},
   "outputs": [],
   "source": [
    "create_weight(\"Orbital_Period_days\", \"Orbital_Period_Upper_Unc_days\", \"Orbital_Period_Lower_Unc_days\")\n",
    "print(exo_data[[\"Orbital_Period_days\", \"Orbital_Period_days_weight\"]].head())"
   ]
  },
  {
   "cell_type": "code",
   "execution_count": null,
   "id": "357acc2d-17d5-45f4-a4ea-33807d8b0f1a",
   "metadata": {},
   "outputs": [],
   "source": [
    "create_weight(\"Transit_Epoch_BKJD\", \"Transit_Epoch_Upper_Unc_BKJD\", \"Transit_Epoch_Lower_Unc_BKJD\")\n",
    "create_weight(\"Transit_Epoch_BJD\", \"Transit_Epoch_Upper_Unc_BJD\", \"Transit_Epoch_Lower_Unc_BJD\")\n",
    "create_weight(\"Impact_Parameter\", \"Impact_Parameter_Upper_Unc\", \"Impact_Parameter_Lower_Unc\")\n",
    "create_weight(\"Transit_Duration_hrs\", \"Transit_Duration_Upper_Unc_hrs\", \"Transit_Duration_Lower_Unc_hrs\")\n",
    "create_weight(\"Transit_Depth_ppm\", \"Transit_Depth_Upper_Unc_ppm\", \"Transit_Depth_Lower_Unc_ppm\")\n",
    "create_weight(\"Planet-Star_Radius_Ratio\", \"Planet-Star_Radius_Ratio_Upper_Unc\", \"Planet-Star_Radius_Ratio_Lower_Unc\")\n",
    "create_weight(\"Fitted_Stellar_Density_g/cm**3\", \"Fitted_Stellar_Density_Upper_Unc_g/cm**3\", \"Fitted_Stellar_Density_Lower_Unc_g/cm**3\")\n",
    "create_weight(\"Planetary_Radius_Earth_radii\", \"Planetary_Radius_Upper_Unc_Earth_radii\", \"Planetary_Radius_Lower_Unc_Earth_radii\")\n",
    "create_weight(\"Insolation_Flux_Earth_flux\", \"Insolation_Flux_Upper_Unc_Earth_flux\", \"Insolation_Flux_Lower_Unc_Earth_flux\")\n",
    "create_weight(\"Planet-Star_Distance_over_Star_Radius\", \"Planet-Star_Distance_over_Star_Radius_Upper_Unc\", \"Planet-Star_Distance_over_Star_Radius_Lower_Unc\")"
   ]
  },
  {
   "cell_type": "code",
   "execution_count": null,
   "id": "91d0c421-022b-4add-ba7a-34d5a861b85a",
   "metadata": {},
   "outputs": [],
   "source": [
    "exo_data.head()"
   ]
  },
  {
   "cell_type": "code",
   "execution_count": null,
   "id": "27720305-48d6-46e6-8cdd-61b86ac83638",
   "metadata": {},
   "outputs": [],
   "source": [
    "new_exo_data = exo_data[classification_features]"
   ]
  },
  {
   "cell_type": "code",
   "execution_count": null,
   "id": "c50fd163-73a9-4fda-be5f-0db7a21a2f0b",
   "metadata": {},
   "outputs": [],
   "source": [
    "new_exo_data.shape"
   ]
  },
  {
   "cell_type": "code",
   "execution_count": null,
   "id": "9115292b-4f14-4191-96ad-726e4194b5e9",
   "metadata": {},
   "outputs": [],
   "source": [
    "new_exo_data.isnull().sum()"
   ]
  },
  {
   "cell_type": "code",
   "execution_count": null,
   "id": "3fe29260-340a-40b9-853b-68cbc33e69b1",
   "metadata": {},
   "outputs": [],
   "source": [
    "new_exo_data = new_exo_data.dropna()"
   ]
  },
  {
   "cell_type": "code",
   "execution_count": null,
   "id": "0f0158b2-47b7-4dc6-a93f-c81f4af08e7e",
   "metadata": {},
   "outputs": [],
   "source": [
    "np.isinf(new_exo_data).sum()"
   ]
  },
  {
   "cell_type": "code",
   "execution_count": null,
   "id": "1c00d452-66ce-4e12-9e62-3ec3b76b7eb1",
   "metadata": {},
   "outputs": [],
   "source": [
    "new_exo_data.head(10)"
   ]
  },
  {
   "cell_type": "code",
   "execution_count": null,
   "id": "07dac2d6-98cc-4a56-aca4-481bf71d1294",
   "metadata": {},
   "outputs": [],
   "source": [
    "import sweetviz as sv\n",
    "from ydata_profiling import ProfileReport\n",
    "\n",
    "# Report mappa létrehozása\n",
    "directory_name = \"EDA_report\"\n",
    "if not os.path.exists(directory_name):\n",
    "    os.makedirs(directory_name)"
   ]
  },
  {
   "cell_type": "code",
   "execution_count": null,
   "id": "b90769af-8dbe-401c-8362-882c04b4f9fa",
   "metadata": {},
   "outputs": [],
   "source": [
    "# Ydata report elkészítése\n",
    "report_ydata = ProfileReport(new_exo_data.head(100).copy(), title=\"My Data\")\n",
    "report_ydata.to_file(\"EDA_report/ydata_report.html\")"
   ]
  },
  {
   "cell_type": "code",
   "execution_count": null,
   "id": "24a69109-ece7-44eb-a81c-ef75e74fdf6f",
   "metadata": {},
   "outputs": [],
   "source": [
    "plt.subplots(figsize=(20,20))\n",
    "sns.heatmap(new_exo_data.corr(), square=True, annot=True)\n",
    "plt.show()"
   ]
  },
  {
   "cell_type": "code",
   "execution_count": null,
   "id": "025742f9-65ce-4d85-b6db-bf2880a48c55",
   "metadata": {},
   "outputs": [],
   "source": [
    "new_exo_data.hist(bins=50, figsize=(20,15))\n",
    "plt.show()"
   ]
  },
  {
   "cell_type": "code",
   "execution_count": null,
   "id": "e488c9a2-0779-4d8a-b870-dc9bda26b5c6",
   "metadata": {},
   "outputs": [],
   "source": [
    "new_exo_data.describe()"
   ]
  },
  {
   "cell_type": "code",
   "execution_count": null,
   "id": "8d4499a1-99dc-4ed7-9482-7c50b2091bdb",
   "metadata": {},
   "outputs": [],
   "source": [
    "reserve_exo_data = new_exo_data[-100:]\n",
    "new_exo_data = new_exo_data.iloc[:-100]"
   ]
  },
  {
   "cell_type": "code",
   "execution_count": null,
   "id": "8d51528f-1eb2-460d-a5ad-193d2e2144e7",
   "metadata": {},
   "outputs": [],
   "source": [
    "reserve_exo_data.shape"
   ]
  },
  {
   "cell_type": "code",
   "execution_count": null,
   "id": "4b4ae516-c5dd-4827-b526-c4de609e2dfb",
   "metadata": {},
   "outputs": [],
   "source": [
    "new_exo_data.shape"
   ]
  },
  {
   "cell_type": "markdown",
   "id": "7b9c5c5a-f322-4a7a-84b2-d2ad0e616e21",
   "metadata": {},
   "source": [
    "## 6. Classification"
   ]
  },
  {
   "cell_type": "code",
   "execution_count": null,
   "id": "dbb98595-3bec-497c-bdb2-93cda5ba0aff",
   "metadata": {},
   "outputs": [],
   "source": [
    "### Predict whether a candidate is a confirmed exoplanet or a false positive."
   ]
  },
  {
   "cell_type": "markdown",
   "id": "a5a76f81-4f87-44ac-971f-af521a755c4f",
   "metadata": {},
   "source": [
    "### 6.1 KNN"
   ]
  },
  {
   "cell_type": "code",
   "execution_count": null,
   "id": "fe04ec37-4074-4ecb-9967-7e792f77b47a",
   "metadata": {},
   "outputs": [],
   "source": [
    "# Outliers\n",
    "\n",
    "import numpy as np\n",
    "from scipy import stats\n",
    "\n",
    "# Calculate Z-scores\n",
    "z_scores = np.abs(stats.zscore(new_exo_data))\n",
    "print(\"Z-scores calculated.\")\n",
    "\n",
    "# Define a threshold\n",
    "threshold = 3\n",
    "\n",
    "# Get boolean array of outliers\n",
    "outliers = (z_scores > threshold)\n",
    "\n",
    "# Identify outlier rows\n",
    "outlier_indices = np.where(outliers.any(axis=1))[0]\n",
    "print(f\"Number of outlier rows: {len(outlier_indices)}\")\n",
    "print(\"Outlier rows indices:\", outlier_indices)"
   ]
  },
  {
   "cell_type": "code",
   "execution_count": null,
   "id": "ace9dd0e-9cf6-40f2-97ad-def5dca04404",
   "metadata": {},
   "outputs": [],
   "source": [
    "new_exo_data = new_exo_data.reset_index(drop=True)\n",
    "cleaned_data = new_exo_data.drop(outlier_indices, axis=0)\n",
    "print(f\"Number of rows after removing outliers: {len(cleaned_data)}\")"
   ]
  },
  {
   "cell_type": "code",
   "execution_count": null,
   "id": "f968c4c3-6e8c-48dc-b1e9-3efaf6c9802c",
   "metadata": {},
   "outputs": [],
   "source": [
    "import numpy as np\n",
    "\n",
    "# Apply log transformation to specific columns\n",
    "cleaned_data['Log_Orbital_Period'] = np.log(cleaned_data['Orbital_Period_days'] + 1)\n",
    "cleaned_data['Log_Transit_Depth'] = np.log(cleaned_data['Transit_Depth_ppm'] + 1)"
   ]
  },
  {
   "cell_type": "code",
   "execution_count": null,
   "id": "0e83c085-a236-4868-b1a8-42a097cadfb9",
   "metadata": {},
   "outputs": [],
   "source": [
    "from sklearn.model_selection import KFold\n",
    "from sklearn.model_selection import train_test_split\n",
    "from sklearn.neighbors import KNeighborsClassifier\n",
    "from sklearn.metrics import accuracy_score\n",
    "from sklearn.preprocessing import StandardScaler\n",
    "\n",
    "y = cleaned_data[\"Exoplanet_Archive_Disposition_Encoded\"]\n",
    "X = cleaned_data.drop(columns=\"Exoplanet_Archive_Disposition_Encoded\", axis=1)\n",
    "\n",
    "# Scaling\n",
    "scaler = StandardScaler()\n",
    "X_scaled = scaler.fit_transform(X)\n",
    "X_scaled = pd.DataFrame(X_scaled)"
   ]
  },
  {
   "cell_type": "code",
   "execution_count": null,
   "id": "cb337db9-01b3-43e1-b744-b618854ab3a0",
   "metadata": {},
   "outputs": [],
   "source": [
    "def get_accuracy(model, X_train, X_test, y_train, y_test):\n",
    "    \n",
    "    y_train_pred = model.predict(X_train)\n",
    "    y_test_pred = model.predict(X_test)\n",
    "    train_accuracy = accuracy_score(y_train, y_train_pred)\n",
    "    test_accuracy = accuracy_score(y_test, y_test_pred)\n",
    "\n",
    "    return test_accuracy"
   ]
  },
  {
   "cell_type": "code",
   "execution_count": null,
   "id": "ceaa7f10-f922-4abd-96f5-1f63267ddcf7",
   "metadata": {},
   "outputs": [],
   "source": [
    "X_train, X_test, y_train, y_test = train_test_split(X_scaled, y, test_size=0.33/2, random_state=42)"
   ]
  },
  {
   "cell_type": "code",
   "execution_count": null,
   "id": "a2d75dca-e922-427b-abc1-b1c4266e0d5d",
   "metadata": {},
   "outputs": [],
   "source": [
    "print(X_train.shape)\n",
    "print(y_train.shape)"
   ]
  },
  {
   "cell_type": "code",
   "execution_count": null,
   "id": "6a4db4f6-1451-42ff-80cf-4cc3e67e7b83",
   "metadata": {},
   "outputs": [],
   "source": [
    "print(X_test.shape)\n",
    "print(y_test.shape)"
   ]
  },
  {
   "cell_type": "code",
   "execution_count": null,
   "id": "458072b3-2c73-4028-bf9a-2046a1a46035",
   "metadata": {},
   "outputs": [],
   "source": [
    "KNN = KNeighborsClassifier(n_neighbors=3)\n",
    "KNN.fit(X_train, y_train)\n",
    "\n",
    "y_train_pred = KNN.predict(X_train)\n",
    "print(f\"{round(accuracy_score(y_train, y_train_pred)* 100, 2)}\")\n",
    "\n",
    "y_test_pred = KNN.predict(X_test)\n",
    "print(f\"{round(accuracy_score(y_test, y_test_pred)* 100, 2)}\")"
   ]
  },
  {
   "cell_type": "code",
   "execution_count": null,
   "id": "23116fe3-1367-4942-9349-2c4479fb56b2",
   "metadata": {},
   "outputs": [],
   "source": [
    "for i in range(0, 10):\n",
    "    print(f\"{reserve_exo_data['Exoplanet_Archive_Disposition_Encoded'].values[i]} - {y_test_pred[i]}\")"
   ]
  },
  {
   "cell_type": "markdown",
   "id": "64ab92b3-0af2-4558-a6bd-df8d8a9933d4",
   "metadata": {},
   "source": [
    "### 6.2 KNN with Cross Validation"
   ]
  },
  {
   "cell_type": "code",
   "execution_count": null,
   "id": "c3caa38d-ef6e-4f71-ab75-a0d076735fce",
   "metadata": {},
   "outputs": [],
   "source": [
    "X_train, X_test, y_train, y_test = train_test_split(X_scaled, y, test_size=0.33/2, random_state=42)\n",
    "X_train, X_cv, y_train, y_cv = train_test_split(X_train, y_train, test_size=0.33/2, random_state=20)\n",
    "\n",
    "KNN_cv = KNeighborsClassifier(n_neighbors=3)\n",
    "KNN_cv.fit(X_train, y_train)\n",
    "\n",
    "y_train_pred = KNN_cv.predict(X_train)\n",
    "y_test_pred = KNN_cv.predict(X_test)\n",
    "y_cv_pred = KNN_cv.predict(X_cv)\n",
    "\n",
    "print(f\"Accuracy score Train: {round(accuracy_score(y_train, y_train_pred)* 100, 2)}\")\n",
    "print(f\"Accuracy score Test: {round(accuracy_score(y_test, y_test_pred)* 100, 2)}\")\n",
    "print(f\"Accuracy score Cross Validation: {round(accuracy_score(y_cv, y_cv_pred)* 100, 2)}\")"
   ]
  },
  {
   "cell_type": "markdown",
   "id": "47399574-5d6e-42c2-a9e6-ba8f9f8e8042",
   "metadata": {},
   "source": [
    "### 6.3 K-Fold Validation"
   ]
  },
  {
   "cell_type": "code",
   "execution_count": null,
   "id": "8f7a26ea-1987-410e-800e-650433698e28",
   "metadata": {},
   "outputs": [],
   "source": [
    "import pandas as pd\n",
    "import numpy as np\n",
    "from sklearn.metrics import accuracy_score\n",
    "from sklearn.model_selection import KFold\n",
    "\n",
    "y_KF = cleaned_data[\"Exoplanet_Archive_Disposition_Encoded\"]\n",
    "X_KF = cleaned_data.drop(columns=\"Exoplanet_Archive_Disposition_Encoded\", axis=1)\n",
    "\n",
    "# Scaling\n",
    "scaler = StandardScaler()\n",
    "X_scaled = scaler.fit_transform(X_KF)\n",
    "X_scaled = pd.DataFrame(X_scaled)\n",
    "\n",
    "X_train, X_test, y_train, y_test = train_test_split(X_scaled, y_KF, test_size=0.33, random_state=500)\n",
    "accuracies = []\n",
    "\n",
    "X_train = X_train.reset_index(drop=True)\n",
    "y_train = y_train.reset_index(drop=True)\n",
    "\n",
    "kf = KFold(n_splits=5)\n",
    "kf.get_n_splits(X_train)\n",
    "print(kf)\n",
    "\n",
    "for i, (train_index, cv_index) in enumerate(kf.split(X_train)):\n",
    "    KNN_KF = KNeighborsClassifier(n_neighbors=10)\n",
    "    KNN_KF.fit(X_train.iloc[train_index], y_train.iloc[train_index])\n",
    "    y_train_pred = KNN_KF.predict(X_train.iloc[train_index])\n",
    "    y_cv_pred = KNN_KF.predict(X_train.iloc[cv_index])\n",
    "    train_accuracy = accuracy_score(y_train[train_index], y_train_pred)\n",
    "    cv_accuracy = accuracy_score(y_train[cv_index], y_cv_pred)\n",
    "    print(\"CV Accuracy:\", cv_accuracy)\n",
    "    accuracies.append(cv_accuracy)\n",
    "print(\"Mean CV accuracy: \", np.mean(accuracies))"
   ]
  },
  {
   "cell_type": "code",
   "execution_count": null,
   "id": "a1796222-7e09-4145-88ac-32db68e4737e",
   "metadata": {},
   "outputs": [],
   "source": [
    "train_index"
   ]
  },
  {
   "cell_type": "markdown",
   "id": "d5936dc7-2915-4d1b-8b03-9196c07f7c2a",
   "metadata": {},
   "source": [
    "### 6.4 Random Forrest"
   ]
  },
  {
   "cell_type": "code",
   "execution_count": null,
   "id": "3678f554-5614-401b-b579-c2f4d3222b7d",
   "metadata": {},
   "outputs": [],
   "source": [
    "from sklearn.ensemble import RandomForestClassifier\n",
    "from sklearn.metrics import accuracy_score\n",
    "\n",
    "X_train, X_test, y_train, y_test = train_test_split(X_scaled, y_KF, test_size=0.33, random_state=500)\n",
    "accuracies = []\n",
    "\n",
    "\n",
    "X_train = X_train.reset_index(drop=True)\n",
    "y_train = y_train.reset_index(drop=True)\n",
    "\n",
    "kf2 = KFold(n_splits=5)\n",
    "kf2.get_n_splits(X_train)\n",
    "print(kf2)\n",
    "\n",
    "for i, (train_index, cv_index) in enumerate(kf2.split(X_train)):\n",
    "    rf_KF = RandomForestClassifier(n_estimators=50, max_depth=10, random_state=0)\n",
    "    rf_KF.fit(X_train.iloc[train_index], y_train.iloc[train_index])\n",
    "    y_train_pred = rf_KF.predict(X_train.iloc[train_index])\n",
    "    y_cv_pred = rf_KF.predict(X_train.iloc[cv_index])\n",
    "    train_accuracy = accuracy_score(y_train[train_index], y_train_pred)\n",
    "    cv_accuracy = accuracy_score(y_train[cv_index], y_cv_pred)\n",
    "    print(\"CV Accuracy:\", cv_accuracy)\n",
    "    accuracies.append(cv_accuracy)\n",
    "print(\"Mean CV accuracy: \", np.mean(accuracies))"
   ]
  },
  {
   "cell_type": "code",
   "execution_count": null,
   "id": "a6942f19-2cf3-480c-bee3-73a1e37c93be",
   "metadata": {},
   "outputs": [],
   "source": [
    "from sklearn.metrics import confusion_matrix\n",
    "\n",
    "y_test_pred = rf_KF.predict(X_test)\n",
    "\n",
    "conf_matrix = confusion_matrix(y_test, y_test_pred)\n",
    "print(f\"Confusion Matrix for the Test Set:\\n {conf_matrix}\")"
   ]
  },
  {
   "cell_type": "code",
   "execution_count": null,
   "id": "e3e1f798-9bb2-4560-afcd-5d130beee298",
   "metadata": {},
   "outputs": [],
   "source": [
    "import matplotlib.pyplot as plt\n",
    "import numpy as np\n",
    "\n",
    "feature_importances = rf_KF.feature_importances_\n",
    "feature_names = X_train.columns\n",
    "\n",
    "sorted_indices = np.argsort(feature_importances)[::-1]\n",
    "sorted_feature_importances = np.array(feature_importances)[sorted_indices]\n",
    "sorted_feature_names = np.array(feature_names)[sorted_indices]\n",
    "\n",
    "top_n = 40\n",
    "top_n_indices = sorted_indices[:top_n]\n",
    "top_n_feature_importances = sorted_feature_importances[:top_n]\n",
    "top_n_feature_names = sorted_feature_names[:top_n]\n",
    "\n",
    "plt.figure(figsize=(20, 6))\n",
    "plt.title(\"Top 10 Feature Importances in Random Forest\")\n",
    "plt.bar(top_n_feature_names, top_n_feature_importances, width=0.5)\n",
    "plt.xlabel(\"Features\")\n",
    "plt.ylabel(\"Importance\")\n",
    "plt.xticks(rotation=45)\n",
    "plt.show()"
   ]
  },
  {
   "cell_type": "markdown",
   "id": "f8a87236-f521-4fb1-9260-aa9071a7f97d",
   "metadata": {},
   "source": [
    "### 6.5 Gradient Boosting"
   ]
  },
  {
   "cell_type": "code",
   "execution_count": null,
   "id": "721cfaca-7d1b-4387-8a52-68fefcad7886",
   "metadata": {},
   "outputs": [],
   "source": [
    "from sklearn.ensemble import GradientBoostingClassifier\n",
    "\n",
    "X_train, X_test, y_train, y_test = train_test_split(X_scaled, y_KF, test_size=0.33, random_state=500)\n",
    "accuracies = []\n",
    "\n",
    "\n",
    "X_train = X_train.reset_index(drop=True)\n",
    "y_train = y_train.reset_index(drop=True)\n",
    "\n",
    "kf3 = KFold(n_splits=5)\n",
    "kf3.get_n_splits(X_train)\n",
    "print(kf2)\n",
    "\n",
    "for i, (train_index, cv_index) in enumerate(kf3.split(X_train)):\n",
    "    gbc = GradientBoostingClassifier(max_depth=5, n_estimators=100, learning_rate=0.2)\n",
    "    gbc.fit(X_train.iloc[train_index], y_train.iloc[train_index])\n",
    "    y_train_pred = gbc.predict(X_train.iloc[train_index])\n",
    "    y_cv_pred = gbc.predict(X_train.iloc[cv_index])\n",
    "    train_accuracy = accuracy_score(y_train[train_index], y_train_pred)\n",
    "    cv_accuracy = accuracy_score(y_train[cv_index], y_cv_pred)\n",
    "    print(\"CV Accuracy:\", cv_accuracy)\n",
    "    accuracies.append(cv_accuracy)\n",
    "print(\"Mean CV accuracy: \", np.mean(accuracies))"
   ]
  },
  {
   "cell_type": "markdown",
   "id": "5b9f1ae0-740e-4efb-b5c3-d1705a0a9ade",
   "metadata": {},
   "source": [
    "### 6.6 LightGBM"
   ]
  },
  {
   "cell_type": "code",
   "execution_count": null,
   "id": "3381947b-e779-40b8-82cc-097dacb0fcd4",
   "metadata": {},
   "outputs": [],
   "source": [
    "from lightgbm import LGBMClassifier\n",
    "\n",
    "X_train, X_test, y_train, y_test = train_test_split(X_scaled, y_KF, test_size=0.33, random_state=500)\n",
    "accuracies = []\n",
    "\n",
    "\n",
    "X_train = X_train.reset_index(drop=True)\n",
    "y_train = y_train.reset_index(drop=True)\n",
    "\n",
    "kf4 = KFold(n_splits=5)\n",
    "kf4.get_n_splits(X_train)\n",
    "print(kf4)\n",
    "\n",
    "for i, (train_index, cv_index) in enumerate(kf4.split(X_train)):\n",
    "    lgbm = LGBMClassifier(boosting_type='gbdt',\n",
    "                          colsample_bytree=1.0,\n",
    "                          learning_rate=0.1,\n",
    "                          max_depth=5,\n",
    "                          min_child_samples=10,\n",
    "                          n_estimators=100,\n",
    "                          num_leaves=20,\n",
    "                          objective='multiclass',\n",
    "                          subsample=1.0)\n",
    "    lgbm.fit(X_train.iloc[train_index], y_train.iloc[train_index])\n",
    "    y_train_pred = lgbm.predict(X_train.iloc[train_index])\n",
    "    y_cv_pred = lgbm.predict(X_train.iloc[cv_index])\n",
    "    train_accuracy = accuracy_score(y_train[train_index], y_train_pred)\n",
    "    cv_accuracy = accuracy_score(y_train[cv_index], y_cv_pred)\n",
    "    print(\"CV Accuracy:\", cv_accuracy)\n",
    "    accuracies.append(cv_accuracy)\n",
    "print(\"Mean CV accuracy: \", np.mean(accuracies))"
   ]
  },
  {
   "cell_type": "markdown",
   "id": "5dbb41a2-a7e5-49e4-9fd1-47cf926b84c3",
   "metadata": {},
   "source": [
    "### 6.7 Neural Network"
   ]
  },
  {
   "cell_type": "code",
   "execution_count": null,
   "id": "99dd0fb8-d13c-4976-8d25-8464319f36ba",
   "metadata": {},
   "outputs": [],
   "source": [
    "import tensorflow as tf\n",
    "from tensorflow.keras.layers import Dense, Dropout\n",
    "from tensorflow.keras.callbacks import ReduceLROnPlateau, EarlyStopping\n",
    "from sklearn.model_selection import train_test_split\n",
    "from sklearn.preprocessing import StandardScaler\n",
    "from tensorflow.keras.utils import to_categorical\n",
    "from tensorflow.keras.optimizers import Adam\n",
    "\n",
    "\n",
    "# Splitting the dataset\n",
    "X_train, X_test, y_train, y_test = train_test_split(X, y, test_size=0.33/2, random_state=42)\n",
    "X_train, X_cv, y_train, y_cv = train_test_split(X_train, y_train, test_size=0.33/2, random_state=20)\n",
    "\n",
    "# Scaling the data\n",
    "scaler = StandardScaler()\n",
    "X_train = scaler.fit_transform(X_train)\n",
    "X_cv = scaler.transform(X_cv)\n",
    "X_test = scaler.transform(X_test)\n",
    "\n",
    "# One-hot encode the labels for multiclass classification\n",
    "y_train = to_categorical(y_train, num_classes=3)\n",
    "y_cv = to_categorical(y_cv, num_classes=3)\n",
    "y_test = to_categorical(y_test, num_classes=3)\n",
    "\n",
    "# Define the model architecture for multiclass classification\n",
    "model = tf.keras.Sequential([\n",
    "    tf.keras.layers.Input(shape=(X_train.shape[1],)),\n",
    "    tf.keras.layers.Dense(64, activation='relu'),\n",
    "    tf.keras.layers.Dense(32, activation='relu'),\n",
    "    tf.keras.layers.Dense(3, activation='sigmoid')  # 3 output neurons, one for each class\n",
    "])\n",
    "\n",
    "# Compile the model for multiclass classification\n",
    "model.compile(optimizer=Adam(learning_rate=0.01), loss='categorical_crossentropy', metrics=['accuracy'])\n",
    "\n",
    "# Learning rate scheduler callback\n",
    "lr_scheduler = ReduceLROnPlateau(factor=0.5, patience=3)\n",
    "\n",
    "# Early stopping callback\n",
    "early_stopping = EarlyStopping(monitor='val_loss', patience=5, restore_best_weights=True)\n",
    "\n",
    "# Train the model\n",
    "history = model.fit(X_train, y_train, epochs=50, validation_data=(X_cv, y_cv), batch_size=64,\n",
    "                    callbacks=[lr_scheduler, early_stopping], verbose=1)\n"
   ]
  },
  {
   "cell_type": "code",
   "execution_count": null,
   "id": "d7181161-7bc8-439d-9f5d-ca9e7dcc8862",
   "metadata": {},
   "outputs": [],
   "source": [
    "import matplotlib.pyplot as plt\n",
    "\n",
    "\n",
    "training_accuracy = history.history['accuracy']\n",
    "validation_accuracy = history.history['val_accuracy']\n",
    "\n",
    "training_loss = history.history['loss']\n",
    "validation_loss = history.history['val_loss']\n",
    "\n",
    "epochs_range = range(len(history.history['loss']))\n",
    "\n",
    "plt.figure(figsize=(12, 6))\n",
    "\n",
    "# Plot Training and Validation Accuracy\n",
    "plt.subplot(1, 2, 1)\n",
    "plt.plot(epochs_range, training_accuracy, label='Training Accuracy')\n",
    "plt.plot(epochs_range, validation_accuracy, label='Validation Accuracy')\n",
    "plt.legend(loc='lower right')\n",
    "plt.title('Training and Validation Accuracy')\n",
    "\n",
    "# Plot Training and Validation Loss\n",
    "plt.subplot(1, 2, 2)\n",
    "plt.plot(epochs_range, training_loss, label='Training Loss')\n",
    "plt.plot(epochs_range, validation_loss, label='Validation Loss')\n",
    "plt.legend(loc='upper right')\n",
    "plt.title('Training and Validation Loss')\n",
    "\n",
    "plt.tight_layout()\n",
    "plt.show()"
   ]
  },
  {
   "cell_type": "code",
   "execution_count": null,
   "id": "b1543d20-4710-44dd-b25d-77663e110a94",
   "metadata": {},
   "outputs": [],
   "source": [
    "import matplotlib.pyplot as plt\n",
    "from sklearn.metrics import precision_recall_curve, auc\n",
    "from sklearn.preprocessing import label_binarize\n",
    "\n",
    "# Get probability predictions for each class\n",
    "y_pred_prob = model.predict(X_test, verbose=0)\n",
    "\n",
    "# Binarize the output labels\n",
    "y_test_binarized = label_binarize(y_test, classes=[0, 1, 2])\n",
    "\n",
    "# Initialize lists to store precision-recall values\n",
    "precision = {}\n",
    "recall = {}\n",
    "auc_score = {}\n",
    "\n",
    "# Compute precision-recall curve and AUC for each class\n",
    "for i in range(3):  # For each class\n",
    "    precision[i], recall[i], _ = precision_recall_curve(y_test_binarized[:, i], y_pred_prob[:, i])\n",
    "    auc_score[i] = auc(recall[i], precision[i])\n",
    "\n",
    "# Plot Precision-Recall curves for each class\n",
    "plt.figure(figsize=(8, 6))\n",
    "for i in range(3):\n",
    "    plt.plot(recall[i], precision[i], label=f'Class {i} PR-AUC = {auc_score[i]:.2f}')\n",
    "\n",
    "plt.xlabel('Recall')\n",
    "plt.ylabel('Precision')\n",
    "plt.title('Precision-Recall Curve')\n",
    "plt.legend()\n",
    "plt.show()"
   ]
  },
  {
   "cell_type": "markdown",
   "id": "e6dc1ae1-4627-40f5-b3a3-e07465786951",
   "metadata": {},
   "source": [
    "### 6.8 Comparsion of the Models"
   ]
  },
  {
   "cell_type": "code",
   "execution_count": null,
   "id": "736402c4-4801-4949-82ae-bbb14790b7b6",
   "metadata": {},
   "outputs": [],
   "source": [
    "models = pd.DataFrame({\n",
    "    'Model': ['K-Neighbors Classifier', 'RandomForestClassifier'],\n",
    "    'Score': [get_accuracy(KNN_KF, X_train, X_test, y_train, y_test),\n",
    "              get_accuracy(rf_KF, X_train, X_test, y_train, y_test),\n",
    "              # get_accuracy(gbc, X_train, X_test, y_train, y_test),\n",
    "              # get_accuracy(lgbm, X_train, X_test, y_train, y_test),\n",
    "             ]})\n",
    "models.sort_values(by='Score', ascending=False)"
   ]
  },
  {
   "cell_type": "markdown",
   "id": "65cdc1d1-4c92-4712-9e3e-de71c583b763",
   "metadata": {},
   "source": [
    "## 7. Regression"
   ]
  },
  {
   "cell_type": "code",
   "execution_count": null,
   "id": "b99eaa9a-0842-4702-aa45-3d195d0fff8d",
   "metadata": {},
   "outputs": [],
   "source": [
    "### Predict the size or other attributes of an exoplanet."
   ]
  },
  {
   "cell_type": "markdown",
   "id": "9915e5e7-2294-490e-ba43-b5ab334b1970",
   "metadata": {},
   "source": [
    "### 7.1 Linear Regression"
   ]
  },
  {
   "cell_type": "code",
   "execution_count": null,
   "id": "df60e901-0352-4f4a-b08b-d5b37c821d95",
   "metadata": {},
   "outputs": [],
   "source": [
    "import seaborn as sns\n",
    "import matplotlib.pyplot as plt\n",
    "from scipy import stats\n",
    "\n",
    "regression_features = [ \"Orbital_Period_days\",\n",
    "                        \"Stellar_Radius_Solar_radii\",\n",
    "                        \"Stellar_Effective_Temperature_K\",\n",
    "                        \"Stellar_Mass_Solar_mass\",\n",
    "                        \"Planet-Star_Distance_over_Star_Radius\",\n",
    "                      ]"
   ]
  },
  {
   "cell_type": "code",
   "execution_count": null,
   "id": "7aaa0d2a-7253-42b8-b014-bb035c1f9bb3",
   "metadata": {},
   "outputs": [],
   "source": [
    "reg_exo_data = exo_data[regression_features]"
   ]
  },
  {
   "cell_type": "code",
   "execution_count": null,
   "id": "b9dbd3ca-04ee-4fcb-b715-b9ea464b4844",
   "metadata": {},
   "outputs": [],
   "source": [
    "reg_exo_data.shape"
   ]
  },
  {
   "cell_type": "code",
   "execution_count": null,
   "id": "e92e8ef3-7146-44e9-b6a0-897f8478c36f",
   "metadata": {},
   "outputs": [],
   "source": [
    "reg_exo_data.isnull().sum()"
   ]
  },
  {
   "cell_type": "code",
   "execution_count": null,
   "id": "120668c3-7b09-4211-8adb-9e7eed6bb134",
   "metadata": {},
   "outputs": [],
   "source": [
    "reg_exo_data.hist(bins=50, figsize=(20,15))\n",
    "plt.show()"
   ]
  },
  {
   "cell_type": "code",
   "execution_count": null,
   "id": "7c1635ba-6685-4f2e-8044-f04337dddc77",
   "metadata": {},
   "outputs": [],
   "source": [
    "# Outliers"
   ]
  },
  {
   "cell_type": "code",
   "execution_count": null,
   "id": "662d20bb-0380-44ed-81dd-d91aa48ddc70",
   "metadata": {},
   "outputs": [],
   "source": [
    "import numpy as np\n",
    "from scipy import stats\n",
    "\n",
    "# Calculate Z-scores\n",
    "z_scores = np.abs(stats.zscore(reg_exo_data))\n",
    "print(\"Z-scores calculated.\")\n",
    "\n",
    "# Define a threshold\n",
    "threshold = 3\n",
    "\n",
    "# Get boolean array of outliers\n",
    "outliers = (z_scores > threshold)\n",
    "\n",
    "# Identify outlier rows\n",
    "outlier_indices = np.where(outliers.any(axis=1))[0]\n",
    "print(f\"Number of outlier rows: {len(outlier_indices)}\")\n",
    "print(\"Outlier rows indices:\", outlier_indices)"
   ]
  },
  {
   "cell_type": "code",
   "execution_count": null,
   "id": "1f670788-7c6f-4865-85d4-321b8d5515d4",
   "metadata": {},
   "outputs": [],
   "source": [
    "reg_exo_data = reg_exo_data.reset_index(drop=True)\n",
    "cleaned_data = reg_exo_data.drop(outlier_indices, axis=0)\n",
    "print(f\"Number of rows after removing outliers: {len(cleaned_data)}\")"
   ]
  },
  {
   "cell_type": "code",
   "execution_count": null,
   "id": "56e4c586-7c55-4dc5-861e-b92a99f70cf2",
   "metadata": {},
   "outputs": [],
   "source": [
    "import numpy as np\n",
    "from sklearn.linear_model import LinearRegression\n",
    "from sklearn.metrics import mean_squared_error\n",
    "from sklearn.model_selection import train_test_split, KFold\n",
    "from sklearn.preprocessing import StandardScaler\n",
    "\n",
    "\n",
    "# Prepare your data\n",
    "y_LR = reg_exo_data[\"Planet-Star_Distance_over_Star_Radius\"]\n",
    "X_LR = reg_exo_data.drop(columns=[\"Planet-Star_Distance_over_Star_Radius\"])\n",
    "\n",
    "# Scaling\n",
    "scaler = StandardScaler()\n",
    "X_LR_scaled = scaler.fit_transform(X_LR)\n",
    "\n",
    "X_LR_scaled = pd.DataFrame(X_LR_scaled)\n",
    "\n",
    "X_LR_scaled.hist(bins=50, figsize=(20,15))\n",
    "plt.show()"
   ]
  },
  {
   "cell_type": "code",
   "execution_count": null,
   "id": "038a5ce1-98b4-4802-b2f6-b5cc29fc18c0",
   "metadata": {},
   "outputs": [],
   "source": [
    "from sklearn.preprocessing import MinMaxScaler\n",
    "\n",
    "y_orig = reg_exo_data[\"Planet-Star_Distance_over_Star_Radius\"].values.reshape(-1, 1)\n",
    "\n",
    "scaler = MinMaxScaler()\n",
    "y = scaler.fit_transform(y_orig)"
   ]
  },
  {
   "cell_type": "code",
   "execution_count": null,
   "id": "68a96030-bc50-42cc-93f4-c76518b1495e",
   "metadata": {},
   "outputs": [],
   "source": [
    "X_train, X_test, y_train, y_test = train_test_split(X_LR_scaled, y, test_size=0.33/2, random_state=42)\n",
    "X_train, X_cv, y_train, y_cv = train_test_split(X_train, y_train, test_size=0.33/2, random_state=20)"
   ]
  },
  {
   "cell_type": "code",
   "execution_count": null,
   "id": "e3707c26-857e-4586-9207-ce139e885feb",
   "metadata": {},
   "outputs": [],
   "source": [
    "import matplotlib.pyplot as plt\n",
    "\n",
    "# Fit model on full training set\n",
    "reg = LinearRegression()\n",
    "reg.fit(X_train, y_train)\n",
    "\n",
    "# Predict on test set\n",
    "y_test_pred = reg.predict(X_test)\n",
    "\n",
    "# Plot predictions vs actual values\n",
    "plt.figure(figsize=(10, 6))\n",
    "plt.scatter(y_test, y_test_pred, alpha=0.5)\n",
    "plt.plot([y_test.min(), y_test.max()], [y_test.min(), y_test.max()], 'r--', lw=2)\n",
    "plt.xlabel('True Values')\n",
    "plt.ylabel('Predictions')\n",
    "plt.title('True Values vs Predictions')\n",
    "plt.show()\n",
    "\n",
    "# Plot residuals\n",
    "residuals = y_test - y_test_pred\n",
    "plt.figure(figsize=(10, 6))\n",
    "plt.scatter(y_test_pred, residuals, alpha=0.5)\n",
    "plt.axhline(0, color='r', linestyle='--')\n",
    "plt.xlabel('Predictions')\n",
    "plt.ylabel('Residuals')\n",
    "plt.title('Residuals vs Predictions')\n",
    "plt.show()"
   ]
  },
  {
   "cell_type": "code",
   "execution_count": null,
   "id": "9f587af7-6925-4dcf-8791-d4fb8e455750",
   "metadata": {
    "scrolled": true
   },
   "outputs": [],
   "source": [
    "import numpy as np\n",
    "import pandas as pd\n",
    "import matplotlib.pyplot as plt\n",
    "from scipy import stats\n",
    "\n",
    "# Assuming new_exo_data is your DataFrame\n",
    "data = cleaned_data.copy()\n",
    "\n",
    "# Z-Score Method\n",
    "z_scores = np.abs(stats.zscore(data))\n",
    "outliers_z_score = np.where(z_scores > 3)\n",
    "\n",
    "# IQR Method\n",
    "Q1 = data.quantile(0.25)\n",
    "Q3 = data.quantile(0.75)\n",
    "IQR = Q3 - Q1\n",
    "outliers_iqr = ((data < (Q1 - 1.5 * IQR)) | (data > (Q3 + 1.5 * IQR)))\n",
    "\n",
    "# Plotting\n",
    "plt.figure(figsize=(14, 7))\n",
    "\n",
    "# Box Plot for each feature\n",
    "plt.subplot(1, 2, 1)\n",
    "data.boxplot()\n",
    "plt.title('Box Plot of Features')\n",
    "\n",
    "# Scatter Plot of the target feature vs. predictions (example)\n",
    "plt.subplot(1, 2, 2)\n",
    "plt.scatter(data[\"Orbital_Period_days\"], data[\"Planet-Star_Distance_over_Star_Radius\"], alpha=0.5)\n",
    "plt.xlabel('Orbital_Period_days')\n",
    "plt.ylabel('Planet-Star Distance over Star Radius')\n",
    "plt.title('Scatter Plot of Feature1 vs Target')\n",
    "\n",
    "plt.tight_layout()\n",
    "plt.show()\n",
    "\n",
    "# Show outliers\n",
    "print(\"Outliers detected using Z-score:\")\n",
    "print(data.iloc[outliers_z_score[0]])\n",
    "\n",
    "print(\"\\nOutliers detected using IQR:\")\n",
    "print(data[outliers_iqr].dropna())"
   ]
  },
  {
   "cell_type": "markdown",
   "id": "3f5e8826-8a09-4b20-9bb6-c85886b6e407",
   "metadata": {},
   "source": [
    "### 7.2 Ridge"
   ]
  },
  {
   "cell_type": "code",
   "execution_count": null,
   "id": "ed932084-f3ae-43f2-9675-8716d5fae3c0",
   "metadata": {},
   "outputs": [],
   "source": [
    "from sklearn.linear_model import Ridge\n",
    "from sklearn.metrics import mean_absolute_error\n",
    "\n",
    "ridge_model = Ridge(alpha=0.1)\n",
    "ridge_model.fit(X_train, y_train)\n",
    "\n",
    "y_pred_ridge = ridge_model.predict(X_test)\n",
    "\n",
    "mae_ridge = mean_absolute_error(y_test, y_pred_ridge)\n",
    "print(\"Model coefficients:\", ridge_model.coef_)\n",
    "print(\"Intercept:\", ridge_model.intercept_)\n",
    "\n",
    "print(\"Mean Absolute Error (MAE) with Ridge: \", mae_ridge)\n",
    "print(\"Ridge Score: \", ridge_model.score(X_test, y_test))"
   ]
  },
  {
   "cell_type": "code",
   "execution_count": null,
   "id": "018a01a4-0fef-43a7-9b6e-0847d99494ff",
   "metadata": {},
   "outputs": [],
   "source": [
    "y_pred_ridge = ridge_model.predict(X_cv)\n",
    "\n",
    "mae_ridge = mean_absolute_error(y_cv, y_pred_ridge)\n",
    "print(\"Model coefficients:\", ridge_model.coef_)\n",
    "print(\"Intercept:\", ridge_model.intercept_)\n",
    "\n",
    "print(\"Mean Absolute Error (MAE) with Ridge: \", mae_ridge)\n",
    "print(\"Ridge Score: \", ridge_model.score(X_cv, y_cv))"
   ]
  },
  {
   "cell_type": "markdown",
   "id": "83583568-b96a-440c-8727-67cbe0c9b9b4",
   "metadata": {},
   "source": [
    "### 7.3 Lasso"
   ]
  },
  {
   "cell_type": "code",
   "execution_count": null,
   "id": "4c1c4e93-5c9f-4f9f-b932-adf86a5e3120",
   "metadata": {},
   "outputs": [],
   "source": [
    "from sklearn.linear_model import Lasso\n",
    "from sklearn.metrics import mean_absolute_error\n",
    "\n",
    "lasso_model = Lasso(alpha=0.1)\n",
    "lasso_model.fit(X_train, y_train)\n",
    "\n",
    "y_pred_lasso = lasso_model.predict(X_test)\n",
    "\n",
    "mae_lasso = mean_absolute_error(y_test, y_pred_lasso)\n",
    "print(\"Model coefficients:\", lasso_model.coef_)\n",
    "print(\"Intercept:\", lasso_model.intercept_)\n",
    "\n",
    "print(\"Mean Absolute Error (MAE) with Lasso: \", mae_lasso)\n",
    "print(\"Lasso Score: \", lasso_model.score(X_test, y_test))"
   ]
  },
  {
   "cell_type": "code",
   "execution_count": null,
   "id": "026907dc-9bc9-425e-be0f-ad9bf278f5c2",
   "metadata": {},
   "outputs": [],
   "source": [
    "y_pred_lasso = lasso_model.predict(X_cv)\n",
    "\n",
    "mae_lasso = mean_absolute_error(y_cv, y_pred_lasso)\n",
    "print(\"Model coefficients:\", lasso_model.coef_)\n",
    "print(\"Intercept:\", lasso_model.intercept_)\n",
    "\n",
    "print(\"Mean Absolute Error (MAE) with Lasso: \", mae_lasso)\n",
    "print(\"Lasso Score: \", lasso_model.score(X_cv, y_cv))"
   ]
  },
  {
   "cell_type": "markdown",
   "id": "1e167e34-83b8-4cfc-942a-49b3a72f15b8",
   "metadata": {},
   "source": [
    "### 7.4 RandomForestRegressor"
   ]
  },
  {
   "cell_type": "code",
   "execution_count": null,
   "id": "610d6455-8b3d-421d-bcb5-81937506360a",
   "metadata": {},
   "outputs": [],
   "source": [
    "from sklearn.ensemble import RandomForestRegressor\n",
    "\n",
    "rfr = RandomForestRegressor(n_estimators=50, max_depth=10, random_state=0)\n",
    "rfr.fit(X_train, y_train)\n",
    "\n",
    "y_pred_rfr = rfr.predict(X_test)\n",
    "\n",
    "mae_rfr = mean_absolute_error(y_test, y_pred_rfr)\n",
    "\n",
    "print(\"Mean Absolute Error (MAE) with Random Forest Regressor: \", mae_rfr)"
   ]
  },
  {
   "cell_type": "markdown",
   "id": "b5a34aa3-bff3-44fa-bd64-74c1ce2fd4de",
   "metadata": {},
   "source": [
    "### 7.5 Comparsion of the Models"
   ]
  },
  {
   "cell_type": "code",
   "execution_count": null,
   "id": "fed541de-e0b0-4b5f-b386-c6633b879328",
   "metadata": {},
   "outputs": [],
   "source": [
    "def get_accuracy_reg(model, X_tr, y_tr):\n",
    "    return model.score(X_tr, y_tr)"
   ]
  },
  {
   "cell_type": "code",
   "execution_count": null,
   "id": "538ccbc3-f102-4131-81b2-6179ceb8ae78",
   "metadata": {},
   "outputs": [],
   "source": [
    "models = pd.DataFrame({\n",
    "    'Model': ['LinearRegression', 'Ridge', 'Lasso', 'RandomForestRegressor'],\n",
    "    'Score': [get_accuracy_reg(reg, X_test, y_test),\n",
    "              get_accuracy_reg(ridge_model, X_test, y_test),\n",
    "              get_accuracy_reg(lasso_model, X_test, y_test),\n",
    "              get_accuracy_reg(rfr, X_test, y_test),\n",
    "             ]})\n",
    "models.sort_values(by='Score', ascending=False)"
   ]
  },
  {
   "cell_type": "markdown",
   "id": "07e9c5fd-65d2-43c0-88c7-8607c66c03fc",
   "metadata": {},
   "source": [
    "## 8. Clustering"
   ]
  },
  {
   "cell_type": "markdown",
   "id": "c7337589-3b39-4dd1-9f66-afa1594bef0a",
   "metadata": {},
   "source": [
    "### 8.1 Features"
   ]
  },
  {
   "cell_type": "code",
   "execution_count": null,
   "id": "477accca-0224-4ab8-b167-2f4e9c62bbbb",
   "metadata": {},
   "outputs": [],
   "source": [
    "### Group similar exoplanet candidates together."
   ]
  },
  {
   "cell_type": "code",
   "execution_count": null,
   "id": "d1d00d55-be19-4e0a-baf1-7bc3c35d387e",
   "metadata": {},
   "outputs": [],
   "source": [
    "clustering_features = [ \"Orbital_Period_days\",\n",
    "                        \"Planetary_Radius_Earth_radii\",\n",
    "                        \"Stellar_Radius_Solar_radii\",\n",
    "                        \"Stellar_Surface_Gravity_log10(cm/s**2)\",\n",
    "                        \"Stellar_Effective_Temperature_K\",\n",
    "                        \"Transit_Depth_ppm\",\n",
    "                        \"Transit_Duration_hrs\",\n",
    "                        \"Insolation_Flux_Earth_flux\",\n",
    "                        \"Stellar_Mass_Solar_mass\",\n",
    "                        \"Stellar_Metallicity_dex\",\n",
    "                      ]"
   ]
  },
  {
   "cell_type": "code",
   "execution_count": null,
   "id": "7ae7e60e-ac2b-47b6-8e18-79eb3e79e6a6",
   "metadata": {},
   "outputs": [],
   "source": [
    "cluster_exo_data = exo_data[clustering_features]"
   ]
  },
  {
   "cell_type": "code",
   "execution_count": null,
   "id": "2ceaedff-0661-449a-9f5e-8f771e837628",
   "metadata": {},
   "outputs": [],
   "source": [
    "cluster_exo_data.shape"
   ]
  },
  {
   "cell_type": "code",
   "execution_count": null,
   "id": "5fcc7844-965d-4a35-ae25-728534070280",
   "metadata": {},
   "outputs": [],
   "source": [
    "cluster_exo_data.hist(bins=50, figsize=(20,15))\n",
    "plt.show()"
   ]
  },
  {
   "cell_type": "code",
   "execution_count": null,
   "id": "3348f6b6-f95c-4acb-96de-9ac6a511b650",
   "metadata": {},
   "outputs": [],
   "source": [
    "cluster_exo_data.isnull().sum()"
   ]
  },
  {
   "cell_type": "code",
   "execution_count": null,
   "id": "832f5a72-907e-4914-a10f-e7c0861bda84",
   "metadata": {},
   "outputs": [],
   "source": [
    "cluster_exo_data = cluster_exo_data.dropna()"
   ]
  },
  {
   "cell_type": "code",
   "execution_count": null,
   "id": "c1c98b24-9a54-4b46-9ddf-b4bd5ec10e60",
   "metadata": {},
   "outputs": [],
   "source": [
    "cluster_exo_data.isnull().sum()"
   ]
  },
  {
   "cell_type": "code",
   "execution_count": null,
   "id": "dc2c2ff7-a5ee-4ea4-9d3d-d29205e956ed",
   "metadata": {},
   "outputs": [],
   "source": [
    "cluster_exo_data.shape"
   ]
  },
  {
   "cell_type": "code",
   "execution_count": null,
   "id": "e4d1d45a-a677-4fc7-818f-4c69824ba952",
   "metadata": {},
   "outputs": [],
   "source": [
    "from sklearn.preprocessing import StandardScaler\n",
    "\n",
    "scaler = StandardScaler()\n",
    "X_scaled = scaler.fit_transform(cluster_exo_data)"
   ]
  },
  {
   "cell_type": "markdown",
   "id": "1dfd4546-d4a1-4ce9-b4d0-e92018236eac",
   "metadata": {},
   "source": [
    "### 8.2 KMeans"
   ]
  },
  {
   "cell_type": "code",
   "execution_count": null,
   "id": "d2002328-e329-4c1b-ad5c-35190b781d23",
   "metadata": {},
   "outputs": [],
   "source": [
    "from sklearn.cluster import KMeans\n",
    "\n",
    "# Apply K-Means clustering with an initial guess of 3 clusters\n",
    "kmeans = KMeans(n_clusters=5, random_state=42)\n",
    "kmeans.fit(X_scaled)\n",
    "\n",
    "# Get the cluster labels\n",
    "labels = kmeans.labels_\n",
    "\n",
    "# Add the labels back to your DataFrame for analysis\n",
    "cluster_exo_data['Cluster'] = labels"
   ]
  },
  {
   "cell_type": "code",
   "execution_count": null,
   "id": "6239b32e-7b0a-4905-9d89-a859a19fe9bb",
   "metadata": {},
   "outputs": [],
   "source": [
    "import matplotlib.pyplot as plt\n",
    "inertia = []\n",
    "\n",
    "# Try different numbers of clusters (k) and calculate inertia\n",
    "for k in range(1, 11):\n",
    "    kmeans = KMeans(n_clusters=k, random_state=42)\n",
    "    kmeans.fit(X_scaled)\n",
    "    inertia.append(kmeans.inertia_)\n",
    "\n",
    "# Plot inertia to see the 'elbow'\n",
    "plt.plot(range(1, 11), inertia)\n",
    "plt.xlabel('Number of Clusters')\n",
    "plt.ylabel('Inertia')\n",
    "plt.show()"
   ]
  },
  {
   "cell_type": "code",
   "execution_count": null,
   "id": "d9758257-6a27-4bb9-8ab7-1fa74d822371",
   "metadata": {},
   "outputs": [],
   "source": [
    "from sklearn.metrics import silhouette_score\n",
    "\n",
    "score = silhouette_score(X_scaled, labels)\n",
    "print(f'Silhouette Score: {score}')"
   ]
  },
  {
   "cell_type": "markdown",
   "id": "b8159642-9b1d-4353-9ebc-2a81f7b55e82",
   "metadata": {},
   "source": [
    "### 8.3 PCA"
   ]
  },
  {
   "cell_type": "code",
   "execution_count": null,
   "id": "63071736-5e90-43c5-8407-1e1ab7773eec",
   "metadata": {},
   "outputs": [],
   "source": [
    "from sklearn.decomposition import PCA\n",
    "\n",
    "pca = PCA(n_components=5)\n",
    "X_pca = pca.fit_transform(X_scaled)\n",
    "\n",
    "plt.scatter(X_pca[:, 0], X_pca[:, 1], c=labels, cmap='viridis')\n",
    "plt.title('Clusters Visualization')\n",
    "plt.show()"
   ]
  },
  {
   "cell_type": "code",
   "execution_count": null,
   "id": "1bcd3baa-bd6b-4d5e-92c7-396174d140d1",
   "metadata": {},
   "outputs": [],
   "source": [
    "import pandas as pd\n",
    "import plotly.express as px\n",
    "from sklearn.decomposition import PCA\n",
    "\n",
    "# Apply PCA to reduce the data to 3 components\n",
    "pca = PCA(n_components=5)\n",
    "X_pca = pca.fit_transform(X_scaled)\n",
    "\n",
    "# Create a DataFrame with the PCA results and cluster labels\n",
    "df_pca = pd.DataFrame(X_pca, columns=['PC1', 'PC2', 'PC3', 'PC4', 'PC5'])\n",
    "df_pca['Cluster'] = cluster_exo_data['Cluster']\n",
    "\n",
    "# Plot the clusters in 3D using Plotly\n",
    "fig = px.scatter_3d(df_pca, x='PC1', y='PC2', z='PC3', color='Cluster',\n",
    "                    title='3D Cluster Visualization with PCA',\n",
    "                    labels={'PC1': 'Principal Component 1', 'PC2': 'Principal Component 2', 'PC3': 'Principal Component 3'},\n",
    "                    opacity=0.7)\n",
    "\n",
    "# Show the interactive plot\n",
    "fig.show()\n"
   ]
  },
  {
   "cell_type": "markdown",
   "id": "ec73fc37-16d4-4c39-9c20-f294ab7f884f",
   "metadata": {},
   "source": [
    "## 9. Fine-tuning and Optimization"
   ]
  },
  {
   "cell_type": "code",
   "execution_count": null,
   "id": "7210cdb1-c317-427c-bcd4-63669f1ff8a5",
   "metadata": {},
   "outputs": [],
   "source": [
    "### Fine-Tuning Gradient Boosting"
   ]
  },
  {
   "cell_type": "code",
   "execution_count": null,
   "id": "4d37d743-02bf-4877-8444-34a92d9e2274",
   "metadata": {},
   "outputs": [],
   "source": [
    "import numpy as np\n",
    "import matplotlib.pyplot as plt\n",
    "from sklearn.ensemble import GradientBoostingClassifier\n",
    "from sklearn.preprocessing import StandardScaler\n",
    "from sklearn.model_selection import GridSearchCV, KFold\n",
    "\n",
    "\n",
    "y_KF = cleaned_data[\"Exoplanet_Archive_Disposition_Encoded\"]\n",
    "X_KF = cleaned_data.drop(columns=\"Exoplanet_Archive_Disposition_Encoded\", axis=1)\n",
    "\n",
    "# Scaling\n",
    "scaler = StandardScaler()\n",
    "X_scaled = scaler.fit_transform(X_KF)\n",
    "X_scaled = pd.DataFrame(X_scaled)\n",
    "\n",
    "X_train, X_test, y_train, y_test = train_test_split(X_scaled, y_KF, test_size=0.33, random_state=500)\n",
    "accuracies = []\n",
    "\n",
    "X_train = X_train.reset_index(drop=True)\n",
    "y_train = y_train.reset_index(drop=True)\n",
    "\n",
    "kf_gb = KFold(n_splits=5)\n",
    "kf_gb.get_n_splits(X_train)\n",
    "param_grid_gb_expanded = {\n",
    "    'boosting_type': ['gbdt', 'dart'],\n",
    "    'objective': ['multiclass'],\n",
    "    'num_leaves': [20, 31, 40],\n",
    "    'learning_rate': [0.01, 0.05, 0.1],\n",
    "    'n_estimators': [30, 50, 70, 100],\n",
    "    'max_depth': [3, 5, 7],\n",
    "    'min_child_samples': [5, 10, 20],\n",
    "    'subsample': [0.8, 0.9, 1.0],\n",
    "    'colsample_bytree': [0.8, 1.0],\n",
    "}\n",
    "\n",
    "grid_search_lgb = GridSearchCV(estimator=GradientBoostingClassifier(), param_grid=param_grid_gb_expanded,\n",
    "                               cv=kf_gb, scoring='accuracy',  # Use an appropriate metric for classification\n",
    "                               verbose=1, n_jobs=-1, return_train_score=True)\n",
    "\n",
    "# Ensure y_train is 1D and binary\n",
    "y_train = y_train.to_numpy()\n",
    "\n",
    "grid_search_gb.fit(X_train, y_train)\n",
    "\n",
    "mean_test_scores = grid_search_gb.cv_results_['mean_test_score']\n",
    "mean_train_scores = grid_search_gb.cv_results_['mean_train_score']\n",
    "n_estimators_range = param_grid_gb['n_estimators']\n",
    "\n",
    "best_params_gb = grid_search_gb.best_params_\n",
    "best_score_gb = grid_search_gb.best_score_\n",
    "\n",
    "plt.figure(figsize=(10, 6))\n",
    "plt.plot(n_estimators_range, mean_test_scores, label='Validation Accuracy', marker='o')\n",
    "plt.plot(n_estimators_range, mean_train_scores, label='Train Accuracy', marker='x')\n",
    "plt.xlabel('Number of Estimators (n_estimators)')\n",
    "plt.ylabel('Accuracy')\n",
    "plt.title('Train and Validation Accuracy vs Number of Estimators')\n",
    "plt.legend()\n",
    "plt.grid(True)\n",
    "plt.show()\n",
    "\n",
    "print(f\"Best Parameters: {best_params_gb}\")\n",
    "print(f\"Best Score (Accuracy): {best_score_gb}\")"
   ]
  },
  {
   "cell_type": "code",
   "execution_count": null,
   "id": "6bdc2eab-bf29-424b-8ddd-735e660ef94b",
   "metadata": {},
   "outputs": [],
   "source": [
    "### Fine-Tuning LGBM"
   ]
  },
  {
   "cell_type": "code",
   "execution_count": null,
   "id": "f2946409-5163-4a76-ad4d-c8545587ad9b",
   "metadata": {},
   "outputs": [],
   "source": [
    "import numpy as np\n",
    "import matplotlib.pyplot as plt\n",
    "from lightgbm import LGBMClassifier\n",
    "from sklearn.preprocessing import StandardScaler\n",
    "from sklearn.model_selection import GridSearchCV, KFold\n",
    "\n",
    "\n",
    "y_KF = cleaned_data[\"Exoplanet_Archive_Disposition_Encoded\"]\n",
    "X_KF = cleaned_data.drop(columns=\"Exoplanet_Archive_Disposition_Encoded\", axis=1)\n",
    "\n",
    "# Scaling\n",
    "scaler = StandardScaler()\n",
    "X_scaled = scaler.fit_transform(X_KF)\n",
    "X_scaled = pd.DataFrame(X_scaled)\n",
    "\n",
    "X_train, X_test, y_train, y_test = train_test_split(X_scaled, y_KF, test_size=0.33, random_state=500)\n",
    "accuracies = []\n",
    "\n",
    "X_train = X_train.reset_index(drop=True)\n",
    "y_train = y_train.reset_index(drop=True)\n",
    "\n",
    "kf_lgb = KFold(n_splits=5)\n",
    "kf_lgb.get_n_splits(X_train)\n",
    "param_grid_lgb_expanded = {\n",
    "    'boosting_type': ['gbdt', 'dart'],\n",
    "    'objective': ['multiclass'],\n",
    "    'num_leaves': [20, 31, 40],\n",
    "    'learning_rate': [0.01, 0.05, 0.1],\n",
    "    'n_estimators': [30, 50, 70, 100],\n",
    "    'max_depth': [3, 5, 7],\n",
    "    'min_child_samples': [5, 10, 20],\n",
    "    'subsample': [0.8, 0.9, 1.0],\n",
    "    'colsample_bytree': [0.8, 1.0],\n",
    "}\n",
    "\n",
    "grid_search_lgb = GridSearchCV(estimator=LGBMClassifier(), param_grid=param_grid_lgb_expanded,\n",
    "                               cv=kf_lgb, scoring='accuracy',  # Use an appropriate metric for classification\n",
    "                               verbose=1, n_jobs=-1, return_train_score=True)\n",
    "\n",
    "# Ensure y_train is 1D and binary\n",
    "y_train = y_train.to_numpy()\n",
    "\n",
    "grid_search_lgb.fit(X_train, y_train)\n",
    "\n",
    "mean_test_scores = grid_search_lgb.cv_results_['mean_test_score']\n",
    "mean_train_scores = grid_search_lgb.cv_results_['mean_train_score']\n",
    "n_estimators_range = param_grid_lgb['n_estimators']\n",
    "\n",
    "best_params_lgb = grid_search_lgb.best_params_\n",
    "best_score_lgb = grid_search_lgb.best_score_\n",
    "\n",
    "plt.figure(figsize=(10, 6))\n",
    "plt.plot(n_estimators_range, mean_test_scores, label='Validation Accuracy', marker='o')\n",
    "plt.plot(n_estimators_range, mean_train_scores, label='Train Accuracy', marker='x')\n",
    "plt.xlabel('Number of Estimators (n_estimators)')\n",
    "plt.ylabel('Accuracy')\n",
    "plt.title('Train and Validation Accuracy vs Number of Estimators')\n",
    "plt.legend()\n",
    "plt.grid(True)\n",
    "plt.show()\n",
    "\n",
    "print(f\"Best Parameters: {best_params_lgb}\")\n",
    "print(f\"Best Score (Accuracy): {best_score_lgb}\")"
   ]
  },
  {
   "cell_type": "code",
   "execution_count": null,
   "id": "618e18c1-afbb-4ae7-b56e-a236ac631f28",
   "metadata": {},
   "outputs": [],
   "source": [
    "### Fine-Tuning Neural Network"
   ]
  },
  {
   "cell_type": "code",
   "execution_count": null,
   "id": "dc73e7ac-7526-47e0-b973-d9bd69a37626",
   "metadata": {},
   "outputs": [],
   "source": []
  },
  {
   "cell_type": "markdown",
   "id": "317e30c3-9724-4924-b334-fdcfd9a372f4",
   "metadata": {},
   "source": [
    "## 10. Deployment"
   ]
  },
  {
   "cell_type": "code",
   "execution_count": null,
   "id": "d9107951-c41d-4a0c-84b6-a0ae3a9a1a22",
   "metadata": {},
   "outputs": [],
   "source": [
    "### Once the model is performing well, consider deploying it as an API or a web app to make predictions on new data."
   ]
  }
 ],
 "metadata": {
  "kernelspec": {
   "display_name": "Python 3 (ipykernel)",
   "language": "python",
   "name": "python3"
  },
  "language_info": {
   "codemirror_mode": {
    "name": "ipython",
    "version": 3
   },
   "file_extension": ".py",
   "mimetype": "text/x-python",
   "name": "python",
   "nbconvert_exporter": "python",
   "pygments_lexer": "ipython3",
   "version": "3.10.12"
  }
 },
 "nbformat": 4,
 "nbformat_minor": 5
}
